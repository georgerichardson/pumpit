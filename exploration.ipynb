{
 "cells": [
  {
   "cell_type": "code",
   "execution_count": 1,
   "metadata": {
    "collapsed": false
   },
   "outputs": [],
   "source": [
    "import pandas as pd\n",
    "import matplotlib.pyplot as plt\n",
    "import seaborn as sns\n",
    "import numpy as np\n",
    "import re\n",
    "import datetime\n",
    "\n",
    "from scipy import stats\n",
    "\n",
    "from sklearn.neighbors import KNeighborsClassifier\n",
    "from sklearn import preprocessing\n",
    "from sklearn.ensemble import RandomForestClassifier\n",
    "from sklearn.cross_validation import KFold\n",
    "\n",
    "sns.set_style(\"white\")\n",
    "sns.set_context(\"talk\")\n",
    "\n",
    "%matplotlib inline"
   ]
  },
  {
   "cell_type": "code",
   "execution_count": 2,
   "metadata": {
    "collapsed": false
   },
   "outputs": [],
   "source": [
    "pd.options.display.max_columns = 50"
   ]
  },
  {
   "cell_type": "markdown",
   "metadata": {},
   "source": [
    "## Training Data"
   ]
  },
  {
   "cell_type": "code",
   "execution_count": 3,
   "metadata": {
    "collapsed": true
   },
   "outputs": [],
   "source": [
    "train_data = pd.read_csv('data/training_set.csv')"
   ]
  },
  {
   "cell_type": "code",
   "execution_count": 4,
   "metadata": {
    "collapsed": false,
    "scrolled": true
   },
   "outputs": [
    {
     "data": {
      "text/html": [
       "<div>\n",
       "<table border=\"1\" class=\"dataframe\">\n",
       "  <thead>\n",
       "    <tr style=\"text-align: right;\">\n",
       "      <th></th>\n",
       "      <th>id</th>\n",
       "      <th>amount_tsh</th>\n",
       "      <th>date_recorded</th>\n",
       "      <th>funder</th>\n",
       "      <th>gps_height</th>\n",
       "      <th>installer</th>\n",
       "      <th>longitude</th>\n",
       "      <th>latitude</th>\n",
       "      <th>wpt_name</th>\n",
       "      <th>num_private</th>\n",
       "      <th>basin</th>\n",
       "      <th>subvillage</th>\n",
       "      <th>region</th>\n",
       "      <th>region_code</th>\n",
       "      <th>district_code</th>\n",
       "      <th>lga</th>\n",
       "      <th>ward</th>\n",
       "      <th>population</th>\n",
       "      <th>public_meeting</th>\n",
       "      <th>recorded_by</th>\n",
       "      <th>scheme_management</th>\n",
       "      <th>scheme_name</th>\n",
       "      <th>permit</th>\n",
       "      <th>construction_year</th>\n",
       "      <th>extraction_type</th>\n",
       "      <th>extraction_type_group</th>\n",
       "      <th>extraction_type_class</th>\n",
       "      <th>management</th>\n",
       "      <th>management_group</th>\n",
       "      <th>payment</th>\n",
       "      <th>payment_type</th>\n",
       "      <th>water_quality</th>\n",
       "      <th>quality_group</th>\n",
       "      <th>quantity</th>\n",
       "      <th>quantity_group</th>\n",
       "      <th>source</th>\n",
       "      <th>source_type</th>\n",
       "      <th>source_class</th>\n",
       "      <th>waterpoint_type</th>\n",
       "      <th>waterpoint_type_group</th>\n",
       "    </tr>\n",
       "  </thead>\n",
       "  <tbody>\n",
       "    <tr>\n",
       "      <th>0</th>\n",
       "      <td>69572</td>\n",
       "      <td>6000.0</td>\n",
       "      <td>2011-03-14</td>\n",
       "      <td>Roman</td>\n",
       "      <td>1390</td>\n",
       "      <td>Roman</td>\n",
       "      <td>34.938093</td>\n",
       "      <td>-9.856322</td>\n",
       "      <td>none</td>\n",
       "      <td>0</td>\n",
       "      <td>Lake Nyasa</td>\n",
       "      <td>Mnyusi B</td>\n",
       "      <td>Iringa</td>\n",
       "      <td>11</td>\n",
       "      <td>5</td>\n",
       "      <td>Ludewa</td>\n",
       "      <td>Mundindi</td>\n",
       "      <td>109</td>\n",
       "      <td>True</td>\n",
       "      <td>GeoData Consultants Ltd</td>\n",
       "      <td>VWC</td>\n",
       "      <td>Roman</td>\n",
       "      <td>False</td>\n",
       "      <td>1999</td>\n",
       "      <td>gravity</td>\n",
       "      <td>gravity</td>\n",
       "      <td>gravity</td>\n",
       "      <td>vwc</td>\n",
       "      <td>user-group</td>\n",
       "      <td>pay annually</td>\n",
       "      <td>annually</td>\n",
       "      <td>soft</td>\n",
       "      <td>good</td>\n",
       "      <td>enough</td>\n",
       "      <td>enough</td>\n",
       "      <td>spring</td>\n",
       "      <td>spring</td>\n",
       "      <td>groundwater</td>\n",
       "      <td>communal standpipe</td>\n",
       "      <td>communal standpipe</td>\n",
       "    </tr>\n",
       "    <tr>\n",
       "      <th>1</th>\n",
       "      <td>8776</td>\n",
       "      <td>0.0</td>\n",
       "      <td>2013-03-06</td>\n",
       "      <td>Grumeti</td>\n",
       "      <td>1399</td>\n",
       "      <td>GRUMETI</td>\n",
       "      <td>34.698766</td>\n",
       "      <td>-2.147466</td>\n",
       "      <td>Zahanati</td>\n",
       "      <td>0</td>\n",
       "      <td>Lake Victoria</td>\n",
       "      <td>Nyamara</td>\n",
       "      <td>Mara</td>\n",
       "      <td>20</td>\n",
       "      <td>2</td>\n",
       "      <td>Serengeti</td>\n",
       "      <td>Natta</td>\n",
       "      <td>280</td>\n",
       "      <td>NaN</td>\n",
       "      <td>GeoData Consultants Ltd</td>\n",
       "      <td>Other</td>\n",
       "      <td>NaN</td>\n",
       "      <td>True</td>\n",
       "      <td>2010</td>\n",
       "      <td>gravity</td>\n",
       "      <td>gravity</td>\n",
       "      <td>gravity</td>\n",
       "      <td>wug</td>\n",
       "      <td>user-group</td>\n",
       "      <td>never pay</td>\n",
       "      <td>never pay</td>\n",
       "      <td>soft</td>\n",
       "      <td>good</td>\n",
       "      <td>insufficient</td>\n",
       "      <td>insufficient</td>\n",
       "      <td>rainwater harvesting</td>\n",
       "      <td>rainwater harvesting</td>\n",
       "      <td>surface</td>\n",
       "      <td>communal standpipe</td>\n",
       "      <td>communal standpipe</td>\n",
       "    </tr>\n",
       "    <tr>\n",
       "      <th>2</th>\n",
       "      <td>34310</td>\n",
       "      <td>25.0</td>\n",
       "      <td>2013-02-25</td>\n",
       "      <td>Lottery Club</td>\n",
       "      <td>686</td>\n",
       "      <td>World vision</td>\n",
       "      <td>37.460664</td>\n",
       "      <td>-3.821329</td>\n",
       "      <td>Kwa Mahundi</td>\n",
       "      <td>0</td>\n",
       "      <td>Pangani</td>\n",
       "      <td>Majengo</td>\n",
       "      <td>Manyara</td>\n",
       "      <td>21</td>\n",
       "      <td>4</td>\n",
       "      <td>Simanjiro</td>\n",
       "      <td>Ngorika</td>\n",
       "      <td>250</td>\n",
       "      <td>True</td>\n",
       "      <td>GeoData Consultants Ltd</td>\n",
       "      <td>VWC</td>\n",
       "      <td>Nyumba ya mungu pipe scheme</td>\n",
       "      <td>True</td>\n",
       "      <td>2009</td>\n",
       "      <td>gravity</td>\n",
       "      <td>gravity</td>\n",
       "      <td>gravity</td>\n",
       "      <td>vwc</td>\n",
       "      <td>user-group</td>\n",
       "      <td>pay per bucket</td>\n",
       "      <td>per bucket</td>\n",
       "      <td>soft</td>\n",
       "      <td>good</td>\n",
       "      <td>enough</td>\n",
       "      <td>enough</td>\n",
       "      <td>dam</td>\n",
       "      <td>dam</td>\n",
       "      <td>surface</td>\n",
       "      <td>communal standpipe multiple</td>\n",
       "      <td>communal standpipe</td>\n",
       "    </tr>\n",
       "    <tr>\n",
       "      <th>3</th>\n",
       "      <td>67743</td>\n",
       "      <td>0.0</td>\n",
       "      <td>2013-01-28</td>\n",
       "      <td>Unicef</td>\n",
       "      <td>263</td>\n",
       "      <td>UNICEF</td>\n",
       "      <td>38.486161</td>\n",
       "      <td>-11.155298</td>\n",
       "      <td>Zahanati Ya Nanyumbu</td>\n",
       "      <td>0</td>\n",
       "      <td>Ruvuma / Southern Coast</td>\n",
       "      <td>Mahakamani</td>\n",
       "      <td>Mtwara</td>\n",
       "      <td>90</td>\n",
       "      <td>63</td>\n",
       "      <td>Nanyumbu</td>\n",
       "      <td>Nanyumbu</td>\n",
       "      <td>58</td>\n",
       "      <td>True</td>\n",
       "      <td>GeoData Consultants Ltd</td>\n",
       "      <td>VWC</td>\n",
       "      <td>NaN</td>\n",
       "      <td>True</td>\n",
       "      <td>1986</td>\n",
       "      <td>submersible</td>\n",
       "      <td>submersible</td>\n",
       "      <td>submersible</td>\n",
       "      <td>vwc</td>\n",
       "      <td>user-group</td>\n",
       "      <td>never pay</td>\n",
       "      <td>never pay</td>\n",
       "      <td>soft</td>\n",
       "      <td>good</td>\n",
       "      <td>dry</td>\n",
       "      <td>dry</td>\n",
       "      <td>machine dbh</td>\n",
       "      <td>borehole</td>\n",
       "      <td>groundwater</td>\n",
       "      <td>communal standpipe multiple</td>\n",
       "      <td>communal standpipe</td>\n",
       "    </tr>\n",
       "    <tr>\n",
       "      <th>4</th>\n",
       "      <td>19728</td>\n",
       "      <td>0.0</td>\n",
       "      <td>2011-07-13</td>\n",
       "      <td>Action In A</td>\n",
       "      <td>0</td>\n",
       "      <td>Artisan</td>\n",
       "      <td>31.130847</td>\n",
       "      <td>-1.825359</td>\n",
       "      <td>Shuleni</td>\n",
       "      <td>0</td>\n",
       "      <td>Lake Victoria</td>\n",
       "      <td>Kyanyamisa</td>\n",
       "      <td>Kagera</td>\n",
       "      <td>18</td>\n",
       "      <td>1</td>\n",
       "      <td>Karagwe</td>\n",
       "      <td>Nyakasimbi</td>\n",
       "      <td>0</td>\n",
       "      <td>True</td>\n",
       "      <td>GeoData Consultants Ltd</td>\n",
       "      <td>NaN</td>\n",
       "      <td>NaN</td>\n",
       "      <td>True</td>\n",
       "      <td>0</td>\n",
       "      <td>gravity</td>\n",
       "      <td>gravity</td>\n",
       "      <td>gravity</td>\n",
       "      <td>other</td>\n",
       "      <td>other</td>\n",
       "      <td>never pay</td>\n",
       "      <td>never pay</td>\n",
       "      <td>soft</td>\n",
       "      <td>good</td>\n",
       "      <td>seasonal</td>\n",
       "      <td>seasonal</td>\n",
       "      <td>rainwater harvesting</td>\n",
       "      <td>rainwater harvesting</td>\n",
       "      <td>surface</td>\n",
       "      <td>communal standpipe</td>\n",
       "      <td>communal standpipe</td>\n",
       "    </tr>\n",
       "  </tbody>\n",
       "</table>\n",
       "</div>"
      ],
      "text/plain": [
       "      id  amount_tsh date_recorded        funder  gps_height     installer  \\\n",
       "0  69572      6000.0    2011-03-14         Roman        1390         Roman   \n",
       "1   8776         0.0    2013-03-06       Grumeti        1399       GRUMETI   \n",
       "2  34310        25.0    2013-02-25  Lottery Club         686  World vision   \n",
       "3  67743         0.0    2013-01-28        Unicef         263        UNICEF   \n",
       "4  19728         0.0    2011-07-13   Action In A           0       Artisan   \n",
       "\n",
       "   longitude   latitude              wpt_name  num_private  \\\n",
       "0  34.938093  -9.856322                  none            0   \n",
       "1  34.698766  -2.147466              Zahanati            0   \n",
       "2  37.460664  -3.821329           Kwa Mahundi            0   \n",
       "3  38.486161 -11.155298  Zahanati Ya Nanyumbu            0   \n",
       "4  31.130847  -1.825359               Shuleni            0   \n",
       "\n",
       "                     basin  subvillage   region  region_code  district_code  \\\n",
       "0               Lake Nyasa    Mnyusi B   Iringa           11              5   \n",
       "1            Lake Victoria     Nyamara     Mara           20              2   \n",
       "2                  Pangani     Majengo  Manyara           21              4   \n",
       "3  Ruvuma / Southern Coast  Mahakamani   Mtwara           90             63   \n",
       "4            Lake Victoria  Kyanyamisa   Kagera           18              1   \n",
       "\n",
       "         lga        ward  population public_meeting              recorded_by  \\\n",
       "0     Ludewa    Mundindi         109           True  GeoData Consultants Ltd   \n",
       "1  Serengeti       Natta         280            NaN  GeoData Consultants Ltd   \n",
       "2  Simanjiro     Ngorika         250           True  GeoData Consultants Ltd   \n",
       "3   Nanyumbu    Nanyumbu          58           True  GeoData Consultants Ltd   \n",
       "4    Karagwe  Nyakasimbi           0           True  GeoData Consultants Ltd   \n",
       "\n",
       "  scheme_management                  scheme_name permit  construction_year  \\\n",
       "0               VWC                        Roman  False               1999   \n",
       "1             Other                          NaN   True               2010   \n",
       "2               VWC  Nyumba ya mungu pipe scheme   True               2009   \n",
       "3               VWC                          NaN   True               1986   \n",
       "4               NaN                          NaN   True                  0   \n",
       "\n",
       "  extraction_type extraction_type_group extraction_type_class management  \\\n",
       "0         gravity               gravity               gravity        vwc   \n",
       "1         gravity               gravity               gravity        wug   \n",
       "2         gravity               gravity               gravity        vwc   \n",
       "3     submersible           submersible           submersible        vwc   \n",
       "4         gravity               gravity               gravity      other   \n",
       "\n",
       "  management_group         payment payment_type water_quality quality_group  \\\n",
       "0       user-group    pay annually     annually          soft          good   \n",
       "1       user-group       never pay    never pay          soft          good   \n",
       "2       user-group  pay per bucket   per bucket          soft          good   \n",
       "3       user-group       never pay    never pay          soft          good   \n",
       "4            other       never pay    never pay          soft          good   \n",
       "\n",
       "       quantity quantity_group                source           source_type  \\\n",
       "0        enough         enough                spring                spring   \n",
       "1  insufficient   insufficient  rainwater harvesting  rainwater harvesting   \n",
       "2        enough         enough                   dam                   dam   \n",
       "3           dry            dry           machine dbh              borehole   \n",
       "4      seasonal       seasonal  rainwater harvesting  rainwater harvesting   \n",
       "\n",
       "  source_class              waterpoint_type waterpoint_type_group  \n",
       "0  groundwater           communal standpipe    communal standpipe  \n",
       "1      surface           communal standpipe    communal standpipe  \n",
       "2      surface  communal standpipe multiple    communal standpipe  \n",
       "3  groundwater  communal standpipe multiple    communal standpipe  \n",
       "4      surface           communal standpipe    communal standpipe  "
      ]
     },
     "execution_count": 4,
     "metadata": {},
     "output_type": "execute_result"
    }
   ],
   "source": [
    "train_data.shape\n",
    "train_data.head(5)"
   ]
  },
  {
   "cell_type": "code",
   "execution_count": 5,
   "metadata": {
    "collapsed": false,
    "scrolled": true
   },
   "outputs": [
    {
     "data": {
      "text/plain": [
       "id                         int64\n",
       "amount_tsh               float64\n",
       "date_recorded             object\n",
       "funder                    object\n",
       "gps_height                 int64\n",
       "installer                 object\n",
       "longitude                float64\n",
       "latitude                 float64\n",
       "wpt_name                  object\n",
       "num_private                int64\n",
       "basin                     object\n",
       "subvillage                object\n",
       "region                    object\n",
       "region_code                int64\n",
       "district_code              int64\n",
       "lga                       object\n",
       "ward                      object\n",
       "population                 int64\n",
       "public_meeting            object\n",
       "recorded_by               object\n",
       "scheme_management         object\n",
       "scheme_name               object\n",
       "permit                    object\n",
       "construction_year          int64\n",
       "extraction_type           object\n",
       "extraction_type_group     object\n",
       "extraction_type_class     object\n",
       "management                object\n",
       "management_group          object\n",
       "payment                   object\n",
       "payment_type              object\n",
       "water_quality             object\n",
       "quality_group             object\n",
       "quantity                  object\n",
       "quantity_group            object\n",
       "source                    object\n",
       "source_type               object\n",
       "source_class              object\n",
       "waterpoint_type           object\n",
       "waterpoint_type_group     object\n",
       "dtype: object"
      ]
     },
     "execution_count": 5,
     "metadata": {},
     "output_type": "execute_result"
    }
   ],
   "source": [
    "train_data.dtypes"
   ]
  },
  {
   "cell_type": "code",
   "execution_count": 6,
   "metadata": {
    "collapsed": false
   },
   "outputs": [],
   "source": [
    "def unique_categories(df):\n",
    "    for column in df.columns:\n",
    "        if df[column].dtype == 'object':\n",
    "            print(column, len(df[column].unique()))"
   ]
  },
  {
   "cell_type": "code",
   "execution_count": 7,
   "metadata": {
    "collapsed": false
   },
   "outputs": [],
   "source": [
    "def all_uniques(df):\n",
    "    for column in df.columns:\n",
    "        print(column, len(df[column].unique()))"
   ]
  },
  {
   "cell_type": "code",
   "execution_count": 8,
   "metadata": {
    "collapsed": true
   },
   "outputs": [],
   "source": [
    "def remove_features(df, extra_columns=None):\n",
    "    df.drop(['id', 'num_private', 'recorded_by'], axis=1, inplace=True)\n",
    "    if extra_columns:\n",
    "        df.drop(extra_columns, axis=1, inplace=True)\n",
    "    return df"
   ]
  },
  {
   "cell_type": "code",
   "execution_count": 9,
   "metadata": {
    "collapsed": false,
    "scrolled": true
   },
   "outputs": [
    {
     "name": "stdout",
     "output_type": "stream",
     "text": [
      "id 59400\n",
      "amount_tsh 98\n",
      "date_recorded 356\n",
      "funder 1898\n",
      "gps_height 2428\n",
      "installer 2146\n",
      "longitude 57516\n",
      "latitude 57517\n",
      "wpt_name 37400\n",
      "num_private 65\n",
      "basin 9\n",
      "subvillage 19288\n",
      "region 21\n",
      "region_code 27\n",
      "district_code 20\n",
      "lga 125\n",
      "ward 2092\n",
      "population 1049\n",
      "public_meeting 3\n",
      "recorded_by 1\n",
      "scheme_management 13\n",
      "scheme_name 2697\n",
      "permit 3\n",
      "construction_year 55\n",
      "extraction_type 18\n",
      "extraction_type_group 13\n",
      "extraction_type_class 7\n",
      "management 12\n",
      "management_group 5\n",
      "payment 7\n",
      "payment_type 7\n",
      "water_quality 8\n",
      "quality_group 6\n",
      "quantity 5\n",
      "quantity_group 5\n",
      "source 10\n",
      "source_type 7\n",
      "source_class 3\n",
      "waterpoint_type 7\n",
      "waterpoint_type_group 6\n"
     ]
    }
   ],
   "source": [
    "all_uniques(train_data)"
   ]
  },
  {
   "cell_type": "code",
   "execution_count": 10,
   "metadata": {
    "collapsed": false,
    "scrolled": true
   },
   "outputs": [
    {
     "data": {
      "text/plain": [
       "id                       False\n",
       "amount_tsh               False\n",
       "date_recorded            False\n",
       "funder                    True\n",
       "gps_height               False\n",
       "installer                 True\n",
       "longitude                False\n",
       "latitude                 False\n",
       "wpt_name                 False\n",
       "num_private              False\n",
       "basin                    False\n",
       "subvillage                True\n",
       "region                   False\n",
       "region_code              False\n",
       "district_code            False\n",
       "lga                      False\n",
       "ward                     False\n",
       "population               False\n",
       "public_meeting            True\n",
       "recorded_by              False\n",
       "scheme_management         True\n",
       "scheme_name               True\n",
       "permit                    True\n",
       "construction_year        False\n",
       "extraction_type          False\n",
       "extraction_type_group    False\n",
       "extraction_type_class    False\n",
       "management               False\n",
       "management_group         False\n",
       "payment                  False\n",
       "payment_type             False\n",
       "water_quality            False\n",
       "quality_group            False\n",
       "quantity                 False\n",
       "quantity_group           False\n",
       "source                   False\n",
       "source_type              False\n",
       "source_class             False\n",
       "waterpoint_type          False\n",
       "waterpoint_type_group    False\n",
       "dtype: bool"
      ]
     },
     "execution_count": 10,
     "metadata": {},
     "output_type": "execute_result"
    }
   ],
   "source": [
    "pd.isnull(train_data).any()"
   ]
  },
  {
   "cell_type": "code",
   "execution_count": 11,
   "metadata": {
    "collapsed": true
   },
   "outputs": [],
   "source": [
    "def percent_missing(df):\n",
    "    \n",
    "    total = len(df)\n",
    "    \n",
    "    for column in df.columns:\n",
    "        series = df[column]\n",
    "        \n",
    "        if series.dtype == 'object':\n",
    "            if series.isnull().any():\n",
    "                percentage = sum(series.isnull()) / total\n",
    "                print(column, percentage * 100, 'NaN')\n",
    "            elif series.str.contains('none').any():\n",
    "                num = len(series[series == 'none'])\n",
    "                percentage = num / total\n",
    "                print(column, percentage * 100, 'none')\n",
    "        elif series.dtype == 'float64':\n",
    "            num = sum(abs(series) < 1e-6)\n",
    "            percentage = num / total\n",
    "            print(column, percentage * 100, '0')\n",
    "        elif series.dtype == 'int64':\n",
    "            num = sum(series == 0)\n",
    "            percentage = num / total\n",
    "            print(column, '{:.2f}'.format(percentage), '0')"
   ]
  },
  {
   "cell_type": "code",
   "execution_count": 12,
   "metadata": {
    "collapsed": false,
    "scrolled": true
   },
   "outputs": [
    {
     "name": "stdout",
     "output_type": "stream",
     "text": [
      "id 0.00 0\n",
      "amount_tsh 70.0993265993 0\n",
      "funder 6.11952861953 NaN\n",
      "gps_height 0.34 0\n",
      "installer 6.1531986532 NaN\n",
      "longitude 3.05050505051 0\n",
      "latitude 3.05050505051 0\n",
      "wpt_name 5.998316498316498 none\n",
      "num_private 0.99 0\n",
      "subvillage 0.624579124579 NaN\n",
      "region_code 0.00 0\n",
      "district_code 0.00 0\n",
      "population 0.36 0\n",
      "public_meeting 5.61279461279 NaN\n",
      "scheme_management 6.52693602694 NaN\n",
      "scheme_name 47.4175084175 NaN\n",
      "permit 5.14478114478 NaN\n",
      "construction_year 0.35 0\n"
     ]
    }
   ],
   "source": [
    "percent_missing(train_data)"
   ]
  },
  {
   "cell_type": "code",
   "execution_count": null,
   "metadata": {
    "collapsed": true
   },
   "outputs": [],
   "source": []
  },
  {
   "cell_type": "markdown",
   "metadata": {},
   "source": [
    "## Training Labels"
   ]
  },
  {
   "cell_type": "code",
   "execution_count": 13,
   "metadata": {
    "collapsed": true
   },
   "outputs": [],
   "source": [
    "train_labels = pd.read_csv('data/training_labels.csv')"
   ]
  },
  {
   "cell_type": "code",
   "execution_count": 14,
   "metadata": {
    "collapsed": false
   },
   "outputs": [
    {
     "data": {
      "text/plain": [
       "59400"
      ]
     },
     "execution_count": 14,
     "metadata": {},
     "output_type": "execute_result"
    }
   ],
   "source": [
    "len(train_labels)"
   ]
  },
  {
   "cell_type": "code",
   "execution_count": 15,
   "metadata": {
    "collapsed": false,
    "scrolled": true
   },
   "outputs": [
    {
     "data": {
      "text/html": [
       "<div>\n",
       "<table border=\"1\" class=\"dataframe\">\n",
       "  <thead>\n",
       "    <tr style=\"text-align: right;\">\n",
       "      <th></th>\n",
       "      <th>id</th>\n",
       "      <th>status_group</th>\n",
       "    </tr>\n",
       "  </thead>\n",
       "  <tbody>\n",
       "    <tr>\n",
       "      <th>0</th>\n",
       "      <td>69572</td>\n",
       "      <td>functional</td>\n",
       "    </tr>\n",
       "    <tr>\n",
       "      <th>1</th>\n",
       "      <td>8776</td>\n",
       "      <td>functional</td>\n",
       "    </tr>\n",
       "    <tr>\n",
       "      <th>2</th>\n",
       "      <td>34310</td>\n",
       "      <td>functional</td>\n",
       "    </tr>\n",
       "    <tr>\n",
       "      <th>3</th>\n",
       "      <td>67743</td>\n",
       "      <td>non functional</td>\n",
       "    </tr>\n",
       "    <tr>\n",
       "      <th>4</th>\n",
       "      <td>19728</td>\n",
       "      <td>functional</td>\n",
       "    </tr>\n",
       "  </tbody>\n",
       "</table>\n",
       "</div>"
      ],
      "text/plain": [
       "      id    status_group\n",
       "0  69572      functional\n",
       "1   8776      functional\n",
       "2  34310      functional\n",
       "3  67743  non functional\n",
       "4  19728      functional"
      ]
     },
     "execution_count": 15,
     "metadata": {},
     "output_type": "execute_result"
    }
   ],
   "source": [
    "train_labels.head()"
   ]
  },
  {
   "cell_type": "code",
   "execution_count": 16,
   "metadata": {
    "collapsed": false,
    "scrolled": true
   },
   "outputs": [
    {
     "data": {
      "text/plain": [
       "functional                 32259\n",
       "non functional             22824\n",
       "functional needs repair     4317\n",
       "Name: status_group, dtype: int64"
      ]
     },
     "execution_count": 16,
     "metadata": {},
     "output_type": "execute_result"
    }
   ],
   "source": [
    "train_labels['status_group'].value_counts()"
   ]
  },
  {
   "cell_type": "markdown",
   "metadata": {},
   "source": [
    "Make a copy of the training data for exploration and breaking."
   ]
  },
  {
   "cell_type": "code",
   "execution_count": 17,
   "metadata": {
    "collapsed": true
   },
   "outputs": [],
   "source": [
    "df = train_data.copy()"
   ]
  },
  {
   "cell_type": "markdown",
   "metadata": {},
   "source": [
    "# Initial Data Exploration"
   ]
  },
  {
   "cell_type": "markdown",
   "metadata": {},
   "source": [
    "## Funders, Installers and Checkers"
   ]
  },
  {
   "cell_type": "code",
   "execution_count": 18,
   "metadata": {
    "collapsed": false,
    "scrolled": true
   },
   "outputs": [
    {
     "name": "stdout",
     "output_type": "stream",
     "text": [
      "There are 1898 different funders.\n"
     ]
    }
   ],
   "source": [
    "num_funders = len(df.funder.unique())\n",
    "print('There are', '{:d}'.format(num_funders), 'different funders.')"
   ]
  },
  {
   "cell_type": "code",
   "execution_count": 19,
   "metadata": {
    "collapsed": false
   },
   "outputs": [
    {
     "name": "stdout",
     "output_type": "stream",
     "text": [
      "There are 2146 different installers.\n"
     ]
    }
   ],
   "source": [
    "num_installers = len(df.installer.unique())\n",
    "print('There are', '{:d}'.format(num_installers), 'different installers.')"
   ]
  },
  {
   "cell_type": "code",
   "execution_count": 20,
   "metadata": {
    "collapsed": false
   },
   "outputs": [
    {
     "name": "stdout",
     "output_type": "stream",
     "text": [
      "There are 1 checkers.\n"
     ]
    }
   ],
   "source": [
    "num_checkers = len(df.recorded_by.unique())\n",
    "print('There are', '{:d}'.format(num_checkers), 'checkers.')"
   ]
  },
  {
   "cell_type": "markdown",
   "metadata": {},
   "source": [
    "## Geography\n",
    "### Longitude and Latitude"
   ]
  },
  {
   "cell_type": "code",
   "execution_count": 21,
   "metadata": {
    "collapsed": false,
    "scrolled": true
   },
   "outputs": [
    {
     "data": {
      "image/png": "[encoded data removed]",
      "text/plain": [
       "<matplotlib.figure.Figure at 0x11b323b38>"
      ]
     },
     "metadata": {},
     "output_type": "display_data"
    }
   ],
   "source": [
    "fig, ax = plt.subplots(1,3, figsize=(16, 4))\n",
    "\n",
    "ax[0].hist(df.gps_height, bins=50, range=(0,2500))\n",
    "ax[0].set_xlabel('Altitude (m)')\n",
    "ax[0].set_ylabel('Number of records')\n",
    "ax[1].hist(df.longitude, bins=50)\n",
    "ax[1].set_xlabel('Longitude')\n",
    "ax[2].hist(df.latitude, bins=50)\n",
    "ax[2].set_xlabel('Latitude')\n",
    "\n",
    "\n",
    "plt.tight_layout()"
   ]
  },
  {
   "cell_type": "markdown",
   "metadata": {},
   "source": [
    "Latitude and longitude seem to have a set of reports with 0 values. Tanaznia does not capture either 0 lines of longitude or latitude, so they would appear to represent missing values.\n",
    "\n",
    "We can check how many values are missing both or just one parts of this data."
   ]
  },
  {
   "cell_type": "code",
   "execution_count": 22,
   "metadata": {
    "collapsed": false
   },
   "outputs": [
    {
     "data": {
      "text/plain": [
       "0.0"
      ]
     },
     "execution_count": 22,
     "metadata": {},
     "output_type": "execute_result"
    }
   ],
   "source": [
    "df.longitude.min()"
   ]
  },
  {
   "cell_type": "code",
   "execution_count": 23,
   "metadata": {
    "collapsed": false,
    "scrolled": true
   },
   "outputs": [
    {
     "data": {
      "text/plain": [
       "-2e-08"
      ]
     },
     "execution_count": 23,
     "metadata": {},
     "output_type": "execute_result"
    }
   ],
   "source": [
    "df.latitude.max()"
   ]
  },
  {
   "cell_type": "code",
   "execution_count": 24,
   "metadata": {
    "collapsed": false
   },
   "outputs": [
    {
     "name": "stdout",
     "output_type": "stream",
     "text": [
      "1819\n",
      "1812\n",
      "1812\n",
      "7\n",
      "0\n"
     ]
    }
   ],
   "source": [
    "print(len(df[(df.latitude > -1)]))\n",
    "print(len(df[(df.longitude == 0)]))\n",
    "print(len(df[(df.longitude == 0) & (df.id[df.latitude > -1])]))\n",
    "print(len(df[(df.longitude != 0) & (df.latitude > -1)]))\n",
    "print(len(df.id[(df.longitude == 0) & (df.id[df.latitude < -1])]))"
   ]
  },
  {
   "cell_type": "markdown",
   "metadata": {},
   "source": [
    "- records with missing latitude values: 1819\n",
    "- records with missing longitude values: 1812\n",
    "- records with missing latitude and longitude values: 1812\n",
    "- records with missing latitude and longitude values: 1812\n",
    "- records with missing *only* latitude values: 7\n",
    "- records with missing *only* longitude values: 0"
   ]
  },
  {
   "cell_type": "markdown",
   "metadata": {},
   "source": [
    "It is more difficult to determine whether altitude values of 0 are missing or at sea level. **<-- LOOK INTO THIS**"
   ]
  },
  {
   "cell_type": "markdown",
   "metadata": {},
   "source": [
    "### Region\n",
    "\n",
    "Assuming 0 is the code for missing value, then we can check if any of the coded region data is missing."
   ]
  },
  {
   "cell_type": "code",
   "execution_count": 25,
   "metadata": {
    "collapsed": false
   },
   "outputs": [
    {
     "data": {
      "text/plain": [
       "0"
      ]
     },
     "execution_count": 25,
     "metadata": {},
     "output_type": "execute_result"
    }
   ],
   "source": [
    "len(df[df.region_code == 0])"
   ]
  },
  {
   "cell_type": "code",
   "execution_count": 26,
   "metadata": {
    "collapsed": false
   },
   "outputs": [
    {
     "data": {
      "text/plain": [
       "23"
      ]
     },
     "execution_count": 26,
     "metadata": {},
     "output_type": "execute_result"
    }
   ],
   "source": [
    "len(df[df.district_code == 0])"
   ]
  },
  {
   "cell_type": "markdown",
   "metadata": {},
   "source": [
    "Hmm, ok. We should probably check whether 0 is the code for a region or representing a missing value. It's a pretty short list, so we might as well just have a look manually."
   ]
  },
  {
   "cell_type": "code",
   "execution_count": 27,
   "metadata": {
    "collapsed": false,
    "scrolled": true
   },
   "outputs": [
    {
     "data": {
      "text/html": [
       "<div>\n",
       "<table border=\"1\" class=\"dataframe\">\n",
       "  <thead>\n",
       "    <tr style=\"text-align: right;\">\n",
       "      <th></th>\n",
       "      <th>id</th>\n",
       "      <th>amount_tsh</th>\n",
       "      <th>date_recorded</th>\n",
       "      <th>funder</th>\n",
       "      <th>gps_height</th>\n",
       "      <th>installer</th>\n",
       "      <th>longitude</th>\n",
       "      <th>latitude</th>\n",
       "      <th>wpt_name</th>\n",
       "      <th>num_private</th>\n",
       "      <th>basin</th>\n",
       "      <th>subvillage</th>\n",
       "      <th>region</th>\n",
       "      <th>region_code</th>\n",
       "      <th>district_code</th>\n",
       "      <th>lga</th>\n",
       "      <th>ward</th>\n",
       "      <th>population</th>\n",
       "      <th>public_meeting</th>\n",
       "      <th>recorded_by</th>\n",
       "      <th>scheme_management</th>\n",
       "      <th>scheme_name</th>\n",
       "      <th>permit</th>\n",
       "      <th>construction_year</th>\n",
       "      <th>extraction_type</th>\n",
       "      <th>extraction_type_group</th>\n",
       "      <th>extraction_type_class</th>\n",
       "      <th>management</th>\n",
       "      <th>management_group</th>\n",
       "      <th>payment</th>\n",
       "      <th>payment_type</th>\n",
       "      <th>water_quality</th>\n",
       "      <th>quality_group</th>\n",
       "      <th>quantity</th>\n",
       "      <th>quantity_group</th>\n",
       "      <th>source</th>\n",
       "      <th>source_type</th>\n",
       "      <th>source_class</th>\n",
       "      <th>waterpoint_type</th>\n",
       "      <th>waterpoint_type_group</th>\n",
       "    </tr>\n",
       "  </thead>\n",
       "  <tbody>\n",
       "    <tr>\n",
       "      <th>895</th>\n",
       "      <td>20639</td>\n",
       "      <td>0.0</td>\n",
       "      <td>2011-04-08</td>\n",
       "      <td>Water</td>\n",
       "      <td>0</td>\n",
       "      <td>Gover</td>\n",
       "      <td>36.526390</td>\n",
       "      <td>-6.57613</td>\n",
       "      <td>Kwa Mgoma</td>\n",
       "      <td>0</td>\n",
       "      <td>Wami / Ruvu</td>\n",
       "      <td>Ng'Ambo</td>\n",
       "      <td>Dodoma</td>\n",
       "      <td>1</td>\n",
       "      <td>0</td>\n",
       "      <td>Mpwapwa</td>\n",
       "      <td>Gode Gode</td>\n",
       "      <td>0</td>\n",
       "      <td>True</td>\n",
       "      <td>GeoData Consultants Ltd</td>\n",
       "      <td>VWC</td>\n",
       "      <td>NaN</td>\n",
       "      <td>True</td>\n",
       "      <td>0</td>\n",
       "      <td>other</td>\n",
       "      <td>other</td>\n",
       "      <td>other</td>\n",
       "      <td>vwc</td>\n",
       "      <td>user-group</td>\n",
       "      <td>never pay</td>\n",
       "      <td>never pay</td>\n",
       "      <td>salty</td>\n",
       "      <td>salty</td>\n",
       "      <td>enough</td>\n",
       "      <td>enough</td>\n",
       "      <td>shallow well</td>\n",
       "      <td>shallow well</td>\n",
       "      <td>groundwater</td>\n",
       "      <td>other</td>\n",
       "      <td>other</td>\n",
       "    </tr>\n",
       "    <tr>\n",
       "      <th>2499</th>\n",
       "      <td>12416</td>\n",
       "      <td>0.0</td>\n",
       "      <td>2011-04-11</td>\n",
       "      <td>World Bank</td>\n",
       "      <td>0</td>\n",
       "      <td>world</td>\n",
       "      <td>36.666734</td>\n",
       "      <td>-6.41097</td>\n",
       "      <td>Mangwe</td>\n",
       "      <td>0</td>\n",
       "      <td>Wami / Ruvu</td>\n",
       "      <td>Mangwe</td>\n",
       "      <td>Dodoma</td>\n",
       "      <td>1</td>\n",
       "      <td>0</td>\n",
       "      <td>Mpwapwa</td>\n",
       "      <td>Matomondo</td>\n",
       "      <td>0</td>\n",
       "      <td>True</td>\n",
       "      <td>GeoData Consultants Ltd</td>\n",
       "      <td>VWC</td>\n",
       "      <td>Tamb</td>\n",
       "      <td>True</td>\n",
       "      <td>0</td>\n",
       "      <td>gravity</td>\n",
       "      <td>gravity</td>\n",
       "      <td>gravity</td>\n",
       "      <td>vwc</td>\n",
       "      <td>user-group</td>\n",
       "      <td>never pay</td>\n",
       "      <td>never pay</td>\n",
       "      <td>soft</td>\n",
       "      <td>good</td>\n",
       "      <td>enough</td>\n",
       "      <td>enough</td>\n",
       "      <td>spring</td>\n",
       "      <td>spring</td>\n",
       "      <td>groundwater</td>\n",
       "      <td>communal standpipe</td>\n",
       "      <td>communal standpipe</td>\n",
       "    </tr>\n",
       "  </tbody>\n",
       "</table>\n",
       "</div>"
      ],
      "text/plain": [
       "         id  amount_tsh date_recorded      funder  gps_height installer  \\\n",
       "895   20639         0.0    2011-04-08       Water           0     Gover   \n",
       "2499  12416         0.0    2011-04-11  World Bank           0     world   \n",
       "\n",
       "      longitude  latitude   wpt_name  num_private        basin subvillage  \\\n",
       "895   36.526390  -6.57613  Kwa Mgoma            0  Wami / Ruvu    Ng'Ambo   \n",
       "2499  36.666734  -6.41097     Mangwe            0  Wami / Ruvu     Mangwe   \n",
       "\n",
       "      region  region_code  district_code      lga       ward  population  \\\n",
       "895   Dodoma            1              0  Mpwapwa  Gode Gode           0   \n",
       "2499  Dodoma            1              0  Mpwapwa  Matomondo           0   \n",
       "\n",
       "     public_meeting              recorded_by scheme_management scheme_name  \\\n",
       "895            True  GeoData Consultants Ltd               VWC         NaN   \n",
       "2499           True  GeoData Consultants Ltd               VWC        Tamb   \n",
       "\n",
       "     permit  construction_year extraction_type extraction_type_group  \\\n",
       "895    True                  0           other                 other   \n",
       "2499   True                  0         gravity               gravity   \n",
       "\n",
       "     extraction_type_class management management_group    payment  \\\n",
       "895                  other        vwc       user-group  never pay   \n",
       "2499               gravity        vwc       user-group  never pay   \n",
       "\n",
       "     payment_type water_quality quality_group quantity quantity_group  \\\n",
       "895     never pay         salty         salty   enough         enough   \n",
       "2499    never pay          soft          good   enough         enough   \n",
       "\n",
       "            source   source_type source_class     waterpoint_type  \\\n",
       "895   shallow well  shallow well  groundwater               other   \n",
       "2499        spring        spring  groundwater  communal standpipe   \n",
       "\n",
       "     waterpoint_type_group  \n",
       "895                  other  \n",
       "2499    communal standpipe  "
      ]
     },
     "execution_count": 27,
     "metadata": {},
     "output_type": "execute_result"
    }
   ],
   "source": [
    "df[df.district_code == 0].head(2)"
   ]
  },
  {
   "cell_type": "markdown",
   "metadata": {},
   "source": [
    "Ok, well from this it's still unclear what district code corresponds to and whether the zeros represent missing values or not. Let's have a look at another one to see."
   ]
  },
  {
   "cell_type": "code",
   "execution_count": 28,
   "metadata": {
    "collapsed": false
   },
   "outputs": [
    {
     "data": {
      "text/html": [
       "<div>\n",
       "<table border=\"1\" class=\"dataframe\">\n",
       "  <thead>\n",
       "    <tr style=\"text-align: right;\">\n",
       "      <th></th>\n",
       "      <th>id</th>\n",
       "      <th>amount_tsh</th>\n",
       "      <th>date_recorded</th>\n",
       "      <th>funder</th>\n",
       "      <th>gps_height</th>\n",
       "      <th>installer</th>\n",
       "      <th>longitude</th>\n",
       "      <th>latitude</th>\n",
       "      <th>wpt_name</th>\n",
       "      <th>num_private</th>\n",
       "      <th>basin</th>\n",
       "      <th>subvillage</th>\n",
       "      <th>region</th>\n",
       "      <th>region_code</th>\n",
       "      <th>district_code</th>\n",
       "      <th>lga</th>\n",
       "      <th>ward</th>\n",
       "      <th>population</th>\n",
       "      <th>public_meeting</th>\n",
       "      <th>recorded_by</th>\n",
       "      <th>scheme_management</th>\n",
       "      <th>scheme_name</th>\n",
       "      <th>permit</th>\n",
       "      <th>construction_year</th>\n",
       "      <th>extraction_type</th>\n",
       "      <th>extraction_type_group</th>\n",
       "      <th>extraction_type_class</th>\n",
       "      <th>management</th>\n",
       "      <th>management_group</th>\n",
       "      <th>payment</th>\n",
       "      <th>payment_type</th>\n",
       "      <th>water_quality</th>\n",
       "      <th>quality_group</th>\n",
       "      <th>quantity</th>\n",
       "      <th>quantity_group</th>\n",
       "      <th>source</th>\n",
       "      <th>source_type</th>\n",
       "      <th>source_class</th>\n",
       "      <th>waterpoint_type</th>\n",
       "      <th>waterpoint_type_group</th>\n",
       "    </tr>\n",
       "  </thead>\n",
       "  <tbody>\n",
       "    <tr>\n",
       "      <th>4</th>\n",
       "      <td>19728</td>\n",
       "      <td>0.0</td>\n",
       "      <td>2011-07-13</td>\n",
       "      <td>Action In A</td>\n",
       "      <td>0</td>\n",
       "      <td>Artisan</td>\n",
       "      <td>31.130847</td>\n",
       "      <td>-1.825359</td>\n",
       "      <td>Shuleni</td>\n",
       "      <td>0</td>\n",
       "      <td>Lake Victoria</td>\n",
       "      <td>Kyanyamisa</td>\n",
       "      <td>Kagera</td>\n",
       "      <td>18</td>\n",
       "      <td>1</td>\n",
       "      <td>Karagwe</td>\n",
       "      <td>Nyakasimbi</td>\n",
       "      <td>0</td>\n",
       "      <td>True</td>\n",
       "      <td>GeoData Consultants Ltd</td>\n",
       "      <td>NaN</td>\n",
       "      <td>NaN</td>\n",
       "      <td>True</td>\n",
       "      <td>0</td>\n",
       "      <td>gravity</td>\n",
       "      <td>gravity</td>\n",
       "      <td>gravity</td>\n",
       "      <td>other</td>\n",
       "      <td>other</td>\n",
       "      <td>never pay</td>\n",
       "      <td>never pay</td>\n",
       "      <td>soft</td>\n",
       "      <td>good</td>\n",
       "      <td>seasonal</td>\n",
       "      <td>seasonal</td>\n",
       "      <td>rainwater harvesting</td>\n",
       "      <td>rainwater harvesting</td>\n",
       "      <td>surface</td>\n",
       "      <td>communal standpipe</td>\n",
       "      <td>communal standpipe</td>\n",
       "    </tr>\n",
       "    <tr>\n",
       "      <th>9</th>\n",
       "      <td>46144</td>\n",
       "      <td>0.0</td>\n",
       "      <td>2011-08-03</td>\n",
       "      <td>Isingiro Ho</td>\n",
       "      <td>0</td>\n",
       "      <td>Artisan</td>\n",
       "      <td>30.626991</td>\n",
       "      <td>-1.257051</td>\n",
       "      <td>Kwapeto</td>\n",
       "      <td>0</td>\n",
       "      <td>Lake Victoria</td>\n",
       "      <td>Mkonomre</td>\n",
       "      <td>Kagera</td>\n",
       "      <td>18</td>\n",
       "      <td>1</td>\n",
       "      <td>Karagwe</td>\n",
       "      <td>Kaisho</td>\n",
       "      <td>0</td>\n",
       "      <td>True</td>\n",
       "      <td>GeoData Consultants Ltd</td>\n",
       "      <td>NaN</td>\n",
       "      <td>NaN</td>\n",
       "      <td>True</td>\n",
       "      <td>0</td>\n",
       "      <td>nira/tanira</td>\n",
       "      <td>nira/tanira</td>\n",
       "      <td>handpump</td>\n",
       "      <td>vwc</td>\n",
       "      <td>user-group</td>\n",
       "      <td>never pay</td>\n",
       "      <td>never pay</td>\n",
       "      <td>soft</td>\n",
       "      <td>good</td>\n",
       "      <td>enough</td>\n",
       "      <td>enough</td>\n",
       "      <td>shallow well</td>\n",
       "      <td>shallow well</td>\n",
       "      <td>groundwater</td>\n",
       "      <td>hand pump</td>\n",
       "      <td>hand pump</td>\n",
       "    </tr>\n",
       "  </tbody>\n",
       "</table>\n",
       "</div>"
      ],
      "text/plain": [
       "      id  amount_tsh date_recorded       funder  gps_height installer  \\\n",
       "4  19728         0.0    2011-07-13  Action In A           0   Artisan   \n",
       "9  46144         0.0    2011-08-03  Isingiro Ho           0   Artisan   \n",
       "\n",
       "   longitude  latitude wpt_name  num_private          basin  subvillage  \\\n",
       "4  31.130847 -1.825359  Shuleni            0  Lake Victoria  Kyanyamisa   \n",
       "9  30.626991 -1.257051  Kwapeto            0  Lake Victoria    Mkonomre   \n",
       "\n",
       "   region  region_code  district_code      lga        ward  population  \\\n",
       "4  Kagera           18              1  Karagwe  Nyakasimbi           0   \n",
       "9  Kagera           18              1  Karagwe      Kaisho           0   \n",
       "\n",
       "  public_meeting              recorded_by scheme_management scheme_name  \\\n",
       "4           True  GeoData Consultants Ltd               NaN         NaN   \n",
       "9           True  GeoData Consultants Ltd               NaN         NaN   \n",
       "\n",
       "  permit  construction_year extraction_type extraction_type_group  \\\n",
       "4   True                  0         gravity               gravity   \n",
       "9   True                  0     nira/tanira           nira/tanira   \n",
       "\n",
       "  extraction_type_class management management_group    payment payment_type  \\\n",
       "4               gravity      other            other  never pay    never pay   \n",
       "9              handpump        vwc       user-group  never pay    never pay   \n",
       "\n",
       "  water_quality quality_group  quantity quantity_group                source  \\\n",
       "4          soft          good  seasonal       seasonal  rainwater harvesting   \n",
       "9          soft          good    enough         enough          shallow well   \n",
       "\n",
       "            source_type source_class     waterpoint_type waterpoint_type_group  \n",
       "4  rainwater harvesting      surface  communal standpipe    communal standpipe  \n",
       "9          shallow well  groundwater           hand pump             hand pump  "
      ]
     },
     "execution_count": 28,
     "metadata": {},
     "output_type": "execute_result"
    }
   ],
   "source": [
    "df[df.district_code == 1].head(2)"
   ]
  },
  {
   "cell_type": "markdown",
   "metadata": {},
   "source": [
    "It's still not clear what district code is exactly representing. I'm going to assume that it is a higher level boundary and that we probably won't bother taking it into account."
   ]
  },
  {
   "cell_type": "markdown",
   "metadata": {},
   "source": [
    "## Time\n",
    "### Construction Year"
   ]
  },
  {
   "cell_type": "code",
   "execution_count": 29,
   "metadata": {
    "collapsed": false
   },
   "outputs": [
    {
     "data": {
      "text/plain": [
       "0"
      ]
     },
     "execution_count": 29,
     "metadata": {},
     "output_type": "execute_result"
    }
   ],
   "source": [
    "df.construction_year.min()"
   ]
  },
  {
   "cell_type": "code",
   "execution_count": 30,
   "metadata": {
    "collapsed": false
   },
   "outputs": [
    {
     "data": {
      "text/plain": [
       "2013"
      ]
     },
     "execution_count": 30,
     "metadata": {},
     "output_type": "execute_result"
    }
   ],
   "source": [
    "df.construction_year.max()"
   ]
  },
  {
   "cell_type": "code",
   "execution_count": 31,
   "metadata": {
    "collapsed": false
   },
   "outputs": [
    {
     "data": {
      "image/png": "[encoded data removed]",
      "text/plain": [
       "<matplotlib.figure.Figure at 0x119338550>"
      ]
     },
     "metadata": {},
     "output_type": "display_data"
    }
   ],
   "source": [
    "fig, ax = plt.subplots(1, 2, figsize=(10.6, 3.5))\n",
    "ax[0].hist(df.construction_year)\n",
    "ax[0].set_xlabel('Year')\n",
    "ax[0].set_ylabel('Number of records')\n",
    "ax[1].hist(df.construction_year[df.construction_year > 0], bins=53, range=[1960, 2014])\n",
    "ax[1].set_xlabel('Year')\n",
    "\n",
    "plt.tight_layout()"
   ]
  },
  {
   "cell_type": "markdown",
   "metadata": {},
   "source": [
    "Unless a large number of water pumps were coincidentally installed to mark the birth of Jesus Christ, we see a large number of missing values for the year constructed, indicating that we don't know when around a third of the pumps were installed. \n",
    "\n",
    "Removing these shows us that the number of pumps installed generally increased since 1960, with a spike around 2000 and a reduction back to 2005 levels after 2010 (the data for 2013 is assumed to be incomplete)."
   ]
  },
  {
   "cell_type": "markdown",
   "metadata": {},
   "source": [
    "### Year Recorded"
   ]
  },
  {
   "cell_type": "code",
   "execution_count": 32,
   "metadata": {
    "collapsed": false
   },
   "outputs": [
    {
     "data": {
      "text/plain": [
       "'2002-10-14'"
      ]
     },
     "execution_count": 32,
     "metadata": {},
     "output_type": "execute_result"
    }
   ],
   "source": [
    "df['date_recorded'].min()"
   ]
  },
  {
   "cell_type": "code",
   "execution_count": 33,
   "metadata": {
    "collapsed": false
   },
   "outputs": [
    {
     "data": {
      "text/plain": [
       "'2013-12-03'"
      ]
     },
     "execution_count": 33,
     "metadata": {},
     "output_type": "execute_result"
    }
   ],
   "source": [
    "df['date_recorded'].max()"
   ]
  },
  {
   "cell_type": "markdown",
   "metadata": {},
   "source": [
    "It seeems that all recordings were taken between October 14th 2002 and December 3rd 2013. We will probably convert this to a unix time/date value."
   ]
  },
  {
   "cell_type": "markdown",
   "metadata": {},
   "source": [
    "# Water"
   ]
  },
  {
   "cell_type": "code",
   "execution_count": 34,
   "metadata": {
    "collapsed": false,
    "scrolled": true
   },
   "outputs": [
    {
     "data": {
      "image/png": "[encoded data removed]",
      "text/plain": [
       "<matplotlib.figure.Figure at 0x119357550>"
      ]
     },
     "metadata": {},
     "output_type": "display_data"
    }
   ],
   "source": [
    "fig, ax = plt.subplots()\n",
    "ax.hist(df.amount_tsh, bins=100, log=True)\n",
    "ax.set_xlabel('Water Available to Waterpoint')\n",
    "ax.set_ylabel('Number of Records')\n",
    "plt.tight_layout()"
   ]
  },
  {
   "cell_type": "markdown",
   "metadata": {},
   "source": [
    "We can see that the majority of pumps may have no information regarding the total static head (volume of water available).\n",
    "\n",
    "Checking, we can see that 70% of records show a zero value for the total static head."
   ]
  },
  {
   "cell_type": "code",
   "execution_count": 35,
   "metadata": {
    "collapsed": false
   },
   "outputs": [
    {
     "data": {
      "text/plain": [
       "0.700993265993266"
      ]
     },
     "execution_count": 35,
     "metadata": {},
     "output_type": "execute_result"
    }
   ],
   "source": [
    "len(df[df.amount_tsh == 0]) / len(df)"
   ]
  },
  {
   "cell_type": "markdown",
   "metadata": {},
   "source": [
    "# To Clean\n",
    "**Initial**\n",
    "- Convert date_recorded to numeric\n",
    "- Convert categorical data to numeric\n",
    "- Feature normalisation\n",
    "\n",
    "**Advanced**\n",
    "- Missing longitude and latitude values\n",
    "- Missing date_constructed values\n",
    "- Remove district_code\n",
    "- Remove redundant and non-useful features"
   ]
  },
  {
   "cell_type": "markdown",
   "metadata": {},
   "source": [
    "# Cleaning Phase 1\n",
    "## Time Conversion"
   ]
  },
  {
   "cell_type": "code",
   "execution_count": 36,
   "metadata": {
    "collapsed": false
   },
   "outputs": [],
   "source": [
    "import datetime"
   ]
  },
  {
   "cell_type": "code",
   "execution_count": 37,
   "metadata": {
    "collapsed": false
   },
   "outputs": [],
   "source": [
    "then = datetime.datetime.strptime('2002-04-12', '%Y-%m-%d')"
   ]
  },
  {
   "cell_type": "code",
   "execution_count": 45,
   "metadata": {
    "collapsed": false
   },
   "outputs": [
    {
     "data": {
      "text/plain": [
       "2002"
      ]
     },
     "execution_count": 45,
     "metadata": {},
     "output_type": "execute_result"
    }
   ],
   "source": [
    "then.year"
   ]
  },
  {
   "cell_type": "code",
   "execution_count": 39,
   "metadata": {
    "collapsed": false
   },
   "outputs": [
    {
     "data": {
      "text/plain": [
       "datetime.datetime(1970, 1, 1, 0, 0)"
      ]
     },
     "execution_count": 39,
     "metadata": {},
     "output_type": "execute_result"
    }
   ],
   "source": [
    "epoch = datetime.datetime.utcfromtimestamp(0)\n",
    "epoch"
   ]
  },
  {
   "cell_type": "code",
   "execution_count": 40,
   "metadata": {
    "collapsed": false
   },
   "outputs": [
    {
     "data": {
      "text/plain": [
       "11789"
      ]
     },
     "execution_count": 40,
     "metadata": {},
     "output_type": "execute_result"
    }
   ],
   "source": [
    "d = (then - epoch).days\n",
    "d"
   ]
  },
  {
   "cell_type": "markdown",
   "metadata": {},
   "source": [
    "Probably useful so lets make a little convenience function for that."
   ]
  },
  {
   "cell_type": "code",
   "execution_count": 41,
   "metadata": {
    "collapsed": true
   },
   "outputs": [],
   "source": [
    "def date_to_time(df, column='date_recorded'):\n",
    "    epoch_day = datetime.datetime.utcfromtimestamp(0)\n",
    "    days = [(datetime.datetime.strptime(day, '%Y-%m-%d') -  epoch_day).days for day in df[column]]\n",
    "    df['time_recorded'] = days\n",
    "    df.drop(column, axis=1, inplace=True)\n",
    "    return df"
   ]
  },
  {
   "cell_type": "markdown",
   "metadata": {},
   "source": [
    "Turning categories into dummies"
   ]
  },
  {
   "cell_type": "code",
   "execution_count": 42,
   "metadata": {
    "collapsed": true
   },
   "outputs": [],
   "source": [
    "df = pd.concat([df, pd.get_dummies(df['extraction_type_class'])], axis=1)\n",
    "df.drop('extraction_type_class', axis=1, inplace=True)"
   ]
  },
  {
   "cell_type": "code",
   "execution_count": 43,
   "metadata": {
    "collapsed": false
   },
   "outputs": [
    {
     "data": {
      "text/html": [
       "<div>\n",
       "<table border=\"1\" class=\"dataframe\">\n",
       "  <thead>\n",
       "    <tr style=\"text-align: right;\">\n",
       "      <th></th>\n",
       "      <th>id</th>\n",
       "      <th>amount_tsh</th>\n",
       "      <th>date_recorded</th>\n",
       "      <th>funder</th>\n",
       "      <th>gps_height</th>\n",
       "      <th>installer</th>\n",
       "      <th>longitude</th>\n",
       "      <th>latitude</th>\n",
       "      <th>wpt_name</th>\n",
       "      <th>num_private</th>\n",
       "      <th>basin</th>\n",
       "      <th>subvillage</th>\n",
       "      <th>region</th>\n",
       "      <th>region_code</th>\n",
       "      <th>district_code</th>\n",
       "      <th>lga</th>\n",
       "      <th>ward</th>\n",
       "      <th>population</th>\n",
       "      <th>public_meeting</th>\n",
       "      <th>recorded_by</th>\n",
       "      <th>scheme_management</th>\n",
       "      <th>scheme_name</th>\n",
       "      <th>permit</th>\n",
       "      <th>construction_year</th>\n",
       "      <th>extraction_type</th>\n",
       "      <th>extraction_type_group</th>\n",
       "      <th>management</th>\n",
       "      <th>management_group</th>\n",
       "      <th>payment</th>\n",
       "      <th>payment_type</th>\n",
       "      <th>water_quality</th>\n",
       "      <th>quality_group</th>\n",
       "      <th>quantity</th>\n",
       "      <th>quantity_group</th>\n",
       "      <th>source</th>\n",
       "      <th>source_type</th>\n",
       "      <th>source_class</th>\n",
       "      <th>waterpoint_type</th>\n",
       "      <th>waterpoint_type_group</th>\n",
       "      <th>gravity</th>\n",
       "      <th>handpump</th>\n",
       "      <th>motorpump</th>\n",
       "      <th>other</th>\n",
       "      <th>rope pump</th>\n",
       "      <th>submersible</th>\n",
       "      <th>wind-powered</th>\n",
       "    </tr>\n",
       "  </thead>\n",
       "  <tbody>\n",
       "    <tr>\n",
       "      <th>0</th>\n",
       "      <td>69572</td>\n",
       "      <td>6000.0</td>\n",
       "      <td>2011-03-14</td>\n",
       "      <td>Roman</td>\n",
       "      <td>1390</td>\n",
       "      <td>Roman</td>\n",
       "      <td>34.938093</td>\n",
       "      <td>-9.856322</td>\n",
       "      <td>none</td>\n",
       "      <td>0</td>\n",
       "      <td>Lake Nyasa</td>\n",
       "      <td>Mnyusi B</td>\n",
       "      <td>Iringa</td>\n",
       "      <td>11</td>\n",
       "      <td>5</td>\n",
       "      <td>Ludewa</td>\n",
       "      <td>Mundindi</td>\n",
       "      <td>109</td>\n",
       "      <td>True</td>\n",
       "      <td>GeoData Consultants Ltd</td>\n",
       "      <td>VWC</td>\n",
       "      <td>Roman</td>\n",
       "      <td>False</td>\n",
       "      <td>1999</td>\n",
       "      <td>gravity</td>\n",
       "      <td>gravity</td>\n",
       "      <td>vwc</td>\n",
       "      <td>user-group</td>\n",
       "      <td>pay annually</td>\n",
       "      <td>annually</td>\n",
       "      <td>soft</td>\n",
       "      <td>good</td>\n",
       "      <td>enough</td>\n",
       "      <td>enough</td>\n",
       "      <td>spring</td>\n",
       "      <td>spring</td>\n",
       "      <td>groundwater</td>\n",
       "      <td>communal standpipe</td>\n",
       "      <td>communal standpipe</td>\n",
       "      <td>1</td>\n",
       "      <td>0</td>\n",
       "      <td>0</td>\n",
       "      <td>0</td>\n",
       "      <td>0</td>\n",
       "      <td>0</td>\n",
       "      <td>0</td>\n",
       "    </tr>\n",
       "  </tbody>\n",
       "</table>\n",
       "</div>"
      ],
      "text/plain": [
       "      id  amount_tsh date_recorded funder  gps_height installer  longitude  \\\n",
       "0  69572      6000.0    2011-03-14  Roman        1390     Roman  34.938093   \n",
       "\n",
       "   latitude wpt_name  num_private       basin subvillage  region  region_code  \\\n",
       "0 -9.856322     none            0  Lake Nyasa   Mnyusi B  Iringa           11   \n",
       "\n",
       "   district_code     lga      ward  population public_meeting  \\\n",
       "0              5  Ludewa  Mundindi         109           True   \n",
       "\n",
       "               recorded_by scheme_management scheme_name permit  \\\n",
       "0  GeoData Consultants Ltd               VWC       Roman  False   \n",
       "\n",
       "   construction_year extraction_type extraction_type_group management  \\\n",
       "0               1999         gravity               gravity        vwc   \n",
       "\n",
       "  management_group       payment payment_type water_quality quality_group  \\\n",
       "0       user-group  pay annually     annually          soft          good   \n",
       "\n",
       "  quantity quantity_group  source source_type source_class  \\\n",
       "0   enough         enough  spring      spring  groundwater   \n",
       "\n",
       "      waterpoint_type waterpoint_type_group  gravity  handpump  motorpump  \\\n",
       "0  communal standpipe    communal standpipe        1         0          0   \n",
       "\n",
       "   other  rope pump  submersible  wind-powered  \n",
       "0      0          0            0             0  "
      ]
     },
     "execution_count": 43,
     "metadata": {},
     "output_type": "execute_result"
    }
   ],
   "source": [
    "df.head(1)"
   ]
  },
  {
   "cell_type": "markdown",
   "metadata": {},
   "source": [
    "# Correlation"
   ]
  },
  {
   "cell_type": "code",
   "execution_count": 44,
   "metadata": {
    "collapsed": false,
    "scrolled": true
   },
   "outputs": [
    {
     "data": {
      "text/plain": [
       "<matplotlib.axes._subplots.AxesSubplot at 0x11f8b2588>"
      ]
     },
     "execution_count": 44,
     "metadata": {},
     "output_type": "execute_result"
    },
    {
     "data": {
      "image/png": "[encoded data removed]",
      "text/plain": [
       "<matplotlib.figure.Figure at 0x11f8b2b38>"
      ]
     },
     "metadata": {},
     "output_type": "display_data"
    }
   ],
   "source": [
    "sns.heatmap(df[df != 0].corr(method='pearson', min_periods=1))"
   ]
  },
  {
   "cell_type": "markdown",
   "metadata": {},
   "source": [
    "# Classifier Helper Functions"
   ]
  },
  {
   "cell_type": "code",
   "execution_count": 89,
   "metadata": {
    "collapsed": true
   },
   "outputs": [],
   "source": [
    "def macro_fscore(y_actual, y_predicted, num_categories=2):\n",
    "    checks = np.zeros(num_categories)\n",
    "    fscores = np.zeros(num_categories)\n",
    "    \n",
    "    cm = confusion_matrix(y_actual, y_predicted)\n",
    "    for i in range(0, len(cm)):\n",
    "        tp = cm[i, i]\n",
    "        fp = np.sum(cm[:, i]) - tp\n",
    "        fn = np.sum(cm[i, :]) - tp\n",
    "        \n",
    "        np.append(checks, [tp, fp, fn])\n",
    "        \n",
    "        precision = tp / (tp + fp)\n",
    "        recall = tp / (tp + fn)\n",
    "        \n",
    "        fscores[i] = (2 * precision * recall) / (precision + recall)\n",
    "    \n",
    "    macro_fscore = np.mean(fscores)\n",
    "    \n",
    "    return macro_fscore, fscores"
   ]
  },
  {
   "cell_type": "code",
   "execution_count": 90,
   "metadata": {
    "collapsed": true
   },
   "outputs": [],
   "source": [
    "def encode_categories(df, le, thresh=20):\n",
    "    for column in df.columns:\n",
    "        if df[column].dtype == 'object':\n",
    "            if len(df[column].unique()) > thresh:\n",
    "                df[column][pd.isnull(df[column])] = 'NaN'\n",
    "                label_encoded = le.fit_transform(df[column])\n",
    "                df[column] = label_encoded\n",
    "            else:\n",
    "                df = pd.concat([df, pd.get_dummies(df[column])], axis=1, copy=False)\n",
    "                df.drop(column, axis=1, inplace=True)\n",
    "    return df"
   ]
  },
  {
   "cell_type": "code",
   "execution_count": 91,
   "metadata": {
    "collapsed": true
   },
   "outputs": [],
   "source": [
    "def classification_rate(y_actual, y_predicted):\n",
    "    rate = np.sum(y_actual == y_predicted) / len(y_actual)\n",
    "    return rate"
   ]
  },
  {
   "cell_type": "markdown",
   "metadata": {
    "collapsed": true
   },
   "source": [
    "# Model 1\n",
    "\n",
    "**Random Forest Classifier**\n",
    "- All features (except ID)\n",
    "- Conversion of non-numeric categories to a mix of label encoded and one hot encoded values\n",
    "- No filling in missing values"
   ]
  },
  {
   "cell_type": "markdown",
   "metadata": {},
   "source": [
    "Remove ID and num_private columns"
   ]
  },
  {
   "cell_type": "code",
   "execution_count": 545,
   "metadata": {
    "collapsed": false
   },
   "outputs": [],
   "source": [
    "train_data_1 = train_data.copy()\n",
    "train_data_1 = train_data_1.drop('id', axis=1)\n",
    "train_data_1 = train_data_1.drop('num_private', axis=1)\n",
    "train_data_1 = train_data_1.drop('recorded_by', axis=1)"
   ]
  },
  {
   "cell_type": "markdown",
   "metadata": {},
   "source": [
    "Convert date recorded to number of days since epoch."
   ]
  },
  {
   "cell_type": "code",
   "execution_count": 546,
   "metadata": {
    "collapsed": false
   },
   "outputs": [],
   "source": [
    "train_data_1 = date_to_time(train_data_1)"
   ]
  },
  {
   "cell_type": "markdown",
   "metadata": {},
   "source": [
    "Replace non-numerica categorical values with label encoded and one hot encoded logical values"
   ]
  },
  {
   "cell_type": "code",
   "execution_count": 547,
   "metadata": {
    "collapsed": true
   },
   "outputs": [],
   "source": [
    "from sklearn import preprocessing\n",
    "le = preprocessing.LabelEncoder()\n",
    "le_lab = preprocessing.LabelEncoder()\n"
   ]
  },
  {
   "cell_type": "code",
   "execution_count": 548,
   "metadata": {
    "collapsed": false,
    "scrolled": false
   },
   "outputs": [
    {
     "name": "stderr",
     "output_type": "stream",
     "text": [
      "/Users/George/miniconda3/envs/py3k/lib/python3.5/site-packages/ipykernel/__main__.py:5: SettingWithCopyWarning: \n",
      "A value is trying to be set on a copy of a slice from a DataFrame\n",
      "\n",
      "See the caveats in the documentation: http://pandas.pydata.org/pandas-docs/stable/indexing.html#indexing-view-versus-copy\n"
     ]
    }
   ],
   "source": [
    "train_data_1 = encode_categories(train_data_1, le)"
   ]
  },
  {
   "cell_type": "markdown",
   "metadata": {},
   "source": [
    "Prepare test data."
   ]
  },
  {
   "cell_type": "code",
   "execution_count": 549,
   "metadata": {
    "collapsed": false
   },
   "outputs": [],
   "source": [
    "train_labels_1 = train_labels.copy()\n",
    "label_encoded = le_lab.fit_transform(train_labels_1['status_group'])\n",
    "train_labels_1['status_group'] = label_encoded"
   ]
  },
  {
   "cell_type": "code",
   "execution_count": 550,
   "metadata": {
    "collapsed": true
   },
   "outputs": [],
   "source": [
    "train_1 = train_data_1.join(train_labels_1['status_group'])"
   ]
  },
  {
   "cell_type": "code",
   "execution_count": 551,
   "metadata": {
    "collapsed": false
   },
   "outputs": [
    {
     "data": {
      "text/html": [
       "<div>\n",
       "<table border=\"1\" class=\"dataframe\">\n",
       "  <thead>\n",
       "    <tr style=\"text-align: right;\">\n",
       "      <th></th>\n",
       "      <th>amount_tsh</th>\n",
       "      <th>funder</th>\n",
       "      <th>gps_height</th>\n",
       "      <th>installer</th>\n",
       "      <th>longitude</th>\n",
       "      <th>latitude</th>\n",
       "      <th>wpt_name</th>\n",
       "      <th>subvillage</th>\n",
       "      <th>region</th>\n",
       "      <th>region_code</th>\n",
       "      <th>district_code</th>\n",
       "      <th>lga</th>\n",
       "      <th>ward</th>\n",
       "      <th>population</th>\n",
       "      <th>scheme_name</th>\n",
       "      <th>construction_year</th>\n",
       "      <th>time_recorded</th>\n",
       "      <th>Internal</th>\n",
       "      <th>Lake Nyasa</th>\n",
       "      <th>Lake Rukwa</th>\n",
       "      <th>Lake Tanganyika</th>\n",
       "      <th>Lake Victoria</th>\n",
       "      <th>Pangani</th>\n",
       "      <th>Rufiji</th>\n",
       "      <th>Ruvuma / Southern Coast</th>\n",
       "      <th>...</th>\n",
       "      <th>unknown</th>\n",
       "      <th>borehole</th>\n",
       "      <th>dam</th>\n",
       "      <th>other</th>\n",
       "      <th>rainwater harvesting</th>\n",
       "      <th>river/lake</th>\n",
       "      <th>shallow well</th>\n",
       "      <th>spring</th>\n",
       "      <th>groundwater</th>\n",
       "      <th>surface</th>\n",
       "      <th>unknown</th>\n",
       "      <th>cattle trough</th>\n",
       "      <th>communal standpipe</th>\n",
       "      <th>communal standpipe multiple</th>\n",
       "      <th>dam</th>\n",
       "      <th>hand pump</th>\n",
       "      <th>improved spring</th>\n",
       "      <th>other</th>\n",
       "      <th>cattle trough</th>\n",
       "      <th>communal standpipe</th>\n",
       "      <th>dam</th>\n",
       "      <th>hand pump</th>\n",
       "      <th>improved spring</th>\n",
       "      <th>other</th>\n",
       "      <th>status_group</th>\n",
       "    </tr>\n",
       "  </thead>\n",
       "  <tbody>\n",
       "    <tr>\n",
       "      <th>0</th>\n",
       "      <td>6000.0</td>\n",
       "      <td>1370</td>\n",
       "      <td>1390</td>\n",
       "      <td>1519</td>\n",
       "      <td>34.938093</td>\n",
       "      <td>-9.856322</td>\n",
       "      <td>37399</td>\n",
       "      <td>11807</td>\n",
       "      <td>3</td>\n",
       "      <td>11</td>\n",
       "      <td>5</td>\n",
       "      <td>51</td>\n",
       "      <td>1426</td>\n",
       "      <td>109</td>\n",
       "      <td>2246</td>\n",
       "      <td>1999</td>\n",
       "      <td>15047</td>\n",
       "      <td>0</td>\n",
       "      <td>1</td>\n",
       "      <td>0</td>\n",
       "      <td>0</td>\n",
       "      <td>0</td>\n",
       "      <td>0</td>\n",
       "      <td>0</td>\n",
       "      <td>0</td>\n",
       "      <td>...</td>\n",
       "      <td>0</td>\n",
       "      <td>0</td>\n",
       "      <td>0</td>\n",
       "      <td>0</td>\n",
       "      <td>0</td>\n",
       "      <td>0</td>\n",
       "      <td>0</td>\n",
       "      <td>1</td>\n",
       "      <td>1</td>\n",
       "      <td>0</td>\n",
       "      <td>0</td>\n",
       "      <td>0</td>\n",
       "      <td>1</td>\n",
       "      <td>0</td>\n",
       "      <td>0</td>\n",
       "      <td>0</td>\n",
       "      <td>0</td>\n",
       "      <td>0</td>\n",
       "      <td>0</td>\n",
       "      <td>1</td>\n",
       "      <td>0</td>\n",
       "      <td>0</td>\n",
       "      <td>0</td>\n",
       "      <td>0</td>\n",
       "      <td>0</td>\n",
       "    </tr>\n",
       "  </tbody>\n",
       "</table>\n",
       "<p>1 rows × 169 columns</p>\n",
       "</div>"
      ],
      "text/plain": [
       "   amount_tsh  funder  gps_height  installer  longitude  latitude  wpt_name  \\\n",
       "0      6000.0    1370        1390       1519  34.938093 -9.856322     37399   \n",
       "\n",
       "   subvillage  region  region_code  district_code  lga  ward  population  \\\n",
       "0       11807       3           11              5   51  1426         109   \n",
       "\n",
       "   scheme_name  construction_year  time_recorded  Internal  Lake Nyasa  \\\n",
       "0         2246               1999          15047         0           1   \n",
       "\n",
       "   Lake Rukwa  Lake Tanganyika  Lake Victoria  Pangani  Rufiji  \\\n",
       "0           0                0              0        0       0   \n",
       "\n",
       "   Ruvuma / Southern Coast      ...       unknown  borehole  dam  other  \\\n",
       "0                        0      ...             0         0    0      0   \n",
       "\n",
       "   rainwater harvesting  river/lake  shallow well  spring  groundwater  \\\n",
       "0                     0           0             0       1            1   \n",
       "\n",
       "   surface  unknown  cattle trough  communal standpipe  \\\n",
       "0        0        0              0                   1   \n",
       "\n",
       "   communal standpipe multiple  dam  hand pump  improved spring  other  \\\n",
       "0                            0    0          0                0      0   \n",
       "\n",
       "   cattle trough  communal standpipe  dam  hand pump  improved spring  other  \\\n",
       "0              0                   1    0          0                0      0   \n",
       "\n",
       "   status_group  \n",
       "0             0  \n",
       "\n",
       "[1 rows x 169 columns]"
      ]
     },
     "execution_count": 551,
     "metadata": {},
     "output_type": "execute_result"
    }
   ],
   "source": [
    "train_1.head(1)"
   ]
  },
  {
   "cell_type": "code",
   "execution_count": 552,
   "metadata": {
    "collapsed": true
   },
   "outputs": [],
   "source": [
    "clf = RandomForestClassifier(n_estimators=500, n_jobs=3)"
   ]
  },
  {
   "cell_type": "code",
   "execution_count": 553,
   "metadata": {
    "collapsed": false
   },
   "outputs": [],
   "source": [
    "kf = KFold(train_data_1.shape[0], n_folds=5, random_state=1)"
   ]
  },
  {
   "cell_type": "code",
   "execution_count": 554,
   "metadata": {
    "collapsed": false
   },
   "outputs": [],
   "source": [
    "pred = []\n",
    "\n",
    "for train, test in kf:\n",
    "    X = train_data_1.iloc[train, :]\n",
    "\n",
    "    y = train_labels_1['status_group'].iloc[train]\n",
    "\n",
    "    clf.fit(X, y)\n",
    "\n",
    "    test_pred = clf.predict(train_data_1.iloc[test, :])\n",
    "    pred = np.append(pred, test_pred)"
   ]
  },
  {
   "cell_type": "code",
   "execution_count": 65,
   "metadata": {
    "collapsed": false
   },
   "outputs": [],
   "source": [
    "from sklearn.metrics import confusion_matrix"
   ]
  },
  {
   "cell_type": "code",
   "execution_count": 555,
   "metadata": {
    "collapsed": false
   },
   "outputs": [
    {
     "data": {
      "text/plain": [
       "array([[28793,   838,  2628],\n",
       "       [ 2181,  1503,   633],\n",
       "       [ 4591,   357, 17876]])"
      ]
     },
     "execution_count": 555,
     "metadata": {},
     "output_type": "execute_result"
    }
   ],
   "source": [
    "cm = confusion_matrix(train_labels_1['status_group'], pred)\n",
    "cm"
   ]
  },
  {
   "cell_type": "code",
   "execution_count": 556,
   "metadata": {
    "collapsed": false
   },
   "outputs": [
    {
     "data": {
      "text/plain": [
       "0.69694237427508632"
      ]
     },
     "execution_count": 556,
     "metadata": {},
     "output_type": "execute_result"
    }
   ],
   "source": [
    "macro_f, fscores = macro_fscore(train_labels_1['status_group'], pred, num_categories=3)\n",
    "macro_f"
   ]
  },
  {
   "cell_type": "code",
   "execution_count": 557,
   "metadata": {
    "collapsed": false
   },
   "outputs": [
    {
     "data": {
      "text/plain": [
       "0.81097643097643102"
      ]
     },
     "execution_count": 557,
     "metadata": {},
     "output_type": "execute_result"
    }
   ],
   "source": [
    "rate = classification_rate(train_labels_1['status_group'], pred)\n",
    "rate"
   ]
  },
  {
   "cell_type": "markdown",
   "metadata": {},
   "source": [
    "# Model 2\n",
    "\n",
    "**Random Forest Classifier**\n",
    "- All features (except ID)\n",
    "- Conversion of non-numeric categories to a mix of label encoded\n",
    "- No filling in missing values\n",
    "- Tune n_estimators"
   ]
  },
  {
   "cell_type": "code",
   "execution_count": 114,
   "metadata": {
    "collapsed": false
   },
   "outputs": [],
   "source": [
    "train_data_2 = train_data_1.copy()\n",
    "train_labels_2 = train_labels_1.copy()"
   ]
  },
  {
   "cell_type": "code",
   "execution_count": 115,
   "metadata": {
    "collapsed": false
   },
   "outputs": [],
   "source": [
    "kf = KFold(train_data_2.shape[0], n_folds=5, random_state=0)"
   ]
  },
  {
   "cell_type": "code",
   "execution_count": 132,
   "metadata": {
    "collapsed": false
   },
   "outputs": [],
   "source": [
    "estimators = [1, 10, 50, 100]\n",
    "\n",
    "classification_rates = []\n",
    "predictions = []\n",
    "\n",
    "for estimator in estimators:\n",
    "    clf = RandomForestClassifier(n_estimators=estimator, random_state=0)\n",
    "    pred = []\n",
    "    \n",
    "    for train, test in kf:\n",
    "        X = train_data_2.iloc[train, :]\n",
    "    \n",
    "        y = train_labels_2['status_group'].iloc[train]\n",
    "    \n",
    "        clf.fit(X, y)\n",
    "        \n",
    "        test_pred = clf.predict(train_data_1.iloc[test, :])\n",
    "        pred = np.append(pred, test_pred)\n",
    "    \n",
    "    predictions = np.append(predictions, pred)\n",
    "    classification_rates.append(classification_rate(train_labels_2['status_group'], pred))"
   ]
  },
  {
   "cell_type": "code",
   "execution_count": 133,
   "metadata": {
    "collapsed": false
   },
   "outputs": [
    {
     "data": {
      "text/plain": [
       "[0.72966329966329968,\n",
       " 0.79712121212121212,\n",
       " 0.8085016835016835,\n",
       " 0.8103030303030303]"
      ]
     },
     "execution_count": 133,
     "metadata": {},
     "output_type": "execute_result"
    }
   ],
   "source": [
    "classification_rates"
   ]
  },
  {
   "cell_type": "markdown",
   "metadata": {},
   "source": [
    "We can see that although we use a larger number of estimators, the classification rate converges very quickly.\n",
    "\n",
    "Checking the macro-F score for the iteration with 100 estimators, no difference compared to using the 10 states previously."
   ]
  },
  {
   "cell_type": "code",
   "execution_count": 134,
   "metadata": {
    "collapsed": false
   },
   "outputs": [
    {
     "data": {
      "text/plain": [
       "array([[28785,   845,  2629],\n",
       "       [ 2164,  1507,   646],\n",
       "       [ 4612,   372, 17840]])"
      ]
     },
     "execution_count": 134,
     "metadata": {},
     "output_type": "execute_result"
    }
   ],
   "source": [
    "cm = confusion_matrix(train_labels_2['status_group'], pred)\n",
    "cm"
   ]
  },
  {
   "cell_type": "code",
   "execution_count": 135,
   "metadata": {
    "collapsed": false
   },
   "outputs": [
    {
     "data": {
      "text/plain": [
       "0.69632123454829775"
      ]
     },
     "execution_count": 135,
     "metadata": {},
     "output_type": "execute_result"
    }
   ],
   "source": [
    "macro_f, fscores = macro_fscore(train_labels_2['status_group'], pred, num_categories=3)\n",
    "macro_f"
   ]
  },
  {
   "cell_type": "markdown",
   "metadata": {},
   "source": [
    "# Model 3\n",
    "\n",
    "**Random Forest Classifier**\n",
    "- All features (except ID)\n",
    "- Conversion of non-numeric categories to a mix of label encoded and one hot encoded values\n",
    "- No filling in missing values\n",
    "- Tune depth"
   ]
  },
  {
   "cell_type": "code",
   "execution_count": 137,
   "metadata": {
    "collapsed": false
   },
   "outputs": [],
   "source": [
    "train_data_3 = train_data_1.copy()\n",
    "train_labels_3 = train_labels_1.copy()"
   ]
  },
  {
   "cell_type": "code",
   "execution_count": 138,
   "metadata": {
    "collapsed": false
   },
   "outputs": [],
   "source": [
    "kf = KFold(train_data_3.shape[0], n_folds=5, random_state=1)"
   ]
  },
  {
   "cell_type": "code",
   "execution_count": 139,
   "metadata": {
    "collapsed": false
   },
   "outputs": [],
   "source": [
    "depths = [1, 10, 50, 100, 500]\n",
    "\n",
    "classification_rates = []\n",
    "\n",
    "for depth in depths:\n",
    "    clf = RandomForestClassifier(max_depth=depth, random_state=0)\n",
    "    pred = np.empty(0)\n",
    "    \n",
    "    for train, test in kf:\n",
    "        X = train_data_3.iloc[train,:]\n",
    "    \n",
    "        y = train_labels_3['status_group'].iloc[train]\n",
    "    \n",
    "        clf.fit(X, y)\n",
    "        \n",
    "        test_pred = clf.predict(train_data_3.iloc[test, :])\n",
    "        pred = np.append(pred, test_pred)\n",
    "        d\n",
    "    classification_rates.append(classification_rate(train_labels_3['status_group'], pred))"
   ]
  },
  {
   "cell_type": "code",
   "execution_count": 140,
   "metadata": {
    "collapsed": false,
    "scrolled": true
   },
   "outputs": [
    {
     "data": {
      "text/plain": [
       "[0.63163299663299666,\n",
       " 0.75109427609427615,\n",
       " 0.79722222222222228,\n",
       " 0.79712121212121212,\n",
       " 0.79712121212121212]"
      ]
     },
     "execution_count": 140,
     "metadata": {},
     "output_type": "execute_result"
    }
   ],
   "source": [
    "classification_rates"
   ]
  },
  {
   "cell_type": "code",
   "execution_count": 144,
   "metadata": {
    "collapsed": false
   },
   "outputs": [
    {
     "data": {
      "text/plain": [
       "[<matplotlib.lines.Line2D at 0x120524940>]"
      ]
     },
     "execution_count": 144,
     "metadata": {},
     "output_type": "execute_result"
    },
    {
     "data": {
      "image/png": "[encoded data removed]",
      "text/plain": [
       "<matplotlib.figure.Figure at 0x1205cbac8>"
      ]
     },
     "metadata": {},
     "output_type": "display_data"
    }
   ],
   "source": [
    "plt.plot(depths, classification_rates, '-')"
   ]
  },
  {
   "cell_type": "markdown",
   "metadata": {},
   "source": [
    "Using a larger maximum depth actually results in a decrease in accuracy.\n",
    "\n",
    "Checking the macro-F score for the iteration with the deepest classifier, we find ourselves stuck around the same values."
   ]
  },
  {
   "cell_type": "code",
   "execution_count": 145,
   "metadata": {
    "collapsed": false
   },
   "outputs": [
    {
     "data": {
      "text/plain": [
       "array([[28594,   939,  2726],\n",
       "       [ 2246,  1441,   630],\n",
       "       [ 5078,   432, 17314]])"
      ]
     },
     "execution_count": 145,
     "metadata": {},
     "output_type": "execute_result"
    }
   ],
   "source": [
    "cm = confusion_matrix(train_labels_2['status_group'], pred)\n",
    "cm"
   ]
  },
  {
   "cell_type": "code",
   "execution_count": 146,
   "metadata": {
    "collapsed": false,
    "scrolled": false
   },
   "outputs": [
    {
     "data": {
      "text/plain": [
       "0.67974555799984737"
      ]
     },
     "execution_count": 146,
     "metadata": {},
     "output_type": "execute_result"
    }
   ],
   "source": [
    "macro_f, fscores = macro_fscore(train_labels_2['status_group'], pred, num_categories=3)\n",
    "macro_f"
   ]
  },
  {
   "cell_type": "markdown",
   "metadata": {},
   "source": [
    "# Model 4\n",
    "\n",
    "**Random Forest Classifier**\n",
    "- All features (except ID)\n",
    "- Conversion of non-numeric categories to a mix of label encoded\n",
    "- Fill in missing values\n",
    "- Tune depth"
   ]
  },
  {
   "cell_type": "code",
   "execution_count": 168,
   "metadata": {
    "collapsed": true
   },
   "outputs": [],
   "source": [
    "train_data_4 = train_data.copy()\n",
    "train_labels_4 = train_labels.copy()\n",
    "train_data_4 = train_data_4.drop('id', axis=1)\n",
    "train_data_4 = train_data_4.drop('num_private', axis=1)\n",
    "train_data_4 = train_data_4.drop('recorded_by', axis=1)\n",
    "\n",
    "train_data_4 = date_to_time(train_data_4)\n",
    "\n",
    "label_encoded = le.fit_transform(train_labels_4['status_group'])\n",
    "train_labels_4['status_group'] = label_encoded"
   ]
  },
  {
   "cell_type": "code",
   "execution_count": 169,
   "metadata": {
    "collapsed": false
   },
   "outputs": [
    {
     "data": {
      "text/html": [
       "<div>\n",
       "<table border=\"1\" class=\"dataframe\">\n",
       "  <thead>\n",
       "    <tr style=\"text-align: right;\">\n",
       "      <th></th>\n",
       "      <th>amount_tsh</th>\n",
       "      <th>funder</th>\n",
       "      <th>gps_height</th>\n",
       "      <th>installer</th>\n",
       "      <th>longitude</th>\n",
       "      <th>latitude</th>\n",
       "      <th>wpt_name</th>\n",
       "      <th>basin</th>\n",
       "      <th>subvillage</th>\n",
       "      <th>region</th>\n",
       "      <th>region_code</th>\n",
       "      <th>district_code</th>\n",
       "      <th>lga</th>\n",
       "      <th>ward</th>\n",
       "      <th>population</th>\n",
       "      <th>public_meeting</th>\n",
       "      <th>scheme_management</th>\n",
       "      <th>scheme_name</th>\n",
       "      <th>permit</th>\n",
       "      <th>construction_year</th>\n",
       "      <th>extraction_type</th>\n",
       "      <th>extraction_type_group</th>\n",
       "      <th>extraction_type_class</th>\n",
       "      <th>management</th>\n",
       "      <th>management_group</th>\n",
       "      <th>payment</th>\n",
       "      <th>payment_type</th>\n",
       "      <th>water_quality</th>\n",
       "      <th>quality_group</th>\n",
       "      <th>quantity</th>\n",
       "      <th>quantity_group</th>\n",
       "      <th>source</th>\n",
       "      <th>source_type</th>\n",
       "      <th>source_class</th>\n",
       "      <th>waterpoint_type</th>\n",
       "      <th>waterpoint_type_group</th>\n",
       "      <th>time_recorded</th>\n",
       "    </tr>\n",
       "  </thead>\n",
       "  <tbody>\n",
       "    <tr>\n",
       "      <th>0</th>\n",
       "      <td>6000.0</td>\n",
       "      <td>Roman</td>\n",
       "      <td>1390</td>\n",
       "      <td>Roman</td>\n",
       "      <td>34.938093</td>\n",
       "      <td>-9.856322</td>\n",
       "      <td>none</td>\n",
       "      <td>Lake Nyasa</td>\n",
       "      <td>Mnyusi B</td>\n",
       "      <td>Iringa</td>\n",
       "      <td>11</td>\n",
       "      <td>5</td>\n",
       "      <td>Ludewa</td>\n",
       "      <td>Mundindi</td>\n",
       "      <td>109</td>\n",
       "      <td>True</td>\n",
       "      <td>VWC</td>\n",
       "      <td>Roman</td>\n",
       "      <td>False</td>\n",
       "      <td>1999</td>\n",
       "      <td>gravity</td>\n",
       "      <td>gravity</td>\n",
       "      <td>gravity</td>\n",
       "      <td>vwc</td>\n",
       "      <td>user-group</td>\n",
       "      <td>pay annually</td>\n",
       "      <td>annually</td>\n",
       "      <td>soft</td>\n",
       "      <td>good</td>\n",
       "      <td>enough</td>\n",
       "      <td>enough</td>\n",
       "      <td>spring</td>\n",
       "      <td>spring</td>\n",
       "      <td>groundwater</td>\n",
       "      <td>communal standpipe</td>\n",
       "      <td>communal standpipe</td>\n",
       "      <td>15047</td>\n",
       "    </tr>\n",
       "  </tbody>\n",
       "</table>\n",
       "</div>"
      ],
      "text/plain": [
       "   amount_tsh funder  gps_height installer  longitude  latitude wpt_name  \\\n",
       "0      6000.0  Roman        1390     Roman  34.938093 -9.856322     none   \n",
       "\n",
       "        basin subvillage  region  region_code  district_code     lga  \\\n",
       "0  Lake Nyasa   Mnyusi B  Iringa           11              5  Ludewa   \n",
       "\n",
       "       ward  population public_meeting scheme_management scheme_name permit  \\\n",
       "0  Mundindi         109           True               VWC       Roman  False   \n",
       "\n",
       "   construction_year extraction_type extraction_type_group  \\\n",
       "0               1999         gravity               gravity   \n",
       "\n",
       "  extraction_type_class management management_group       payment  \\\n",
       "0               gravity        vwc       user-group  pay annually   \n",
       "\n",
       "  payment_type water_quality quality_group quantity quantity_group  source  \\\n",
       "0     annually          soft          good   enough         enough  spring   \n",
       "\n",
       "  source_type source_class     waterpoint_type waterpoint_type_group  \\\n",
       "0      spring  groundwater  communal standpipe    communal standpipe   \n",
       "\n",
       "   time_recorded  \n",
       "0          15047  "
      ]
     },
     "execution_count": 169,
     "metadata": {},
     "output_type": "execute_result"
    }
   ],
   "source": [
    "train_data_4.head(1)"
   ]
  },
  {
   "cell_type": "code",
   "execution_count": 594,
   "metadata": {
    "collapsed": false
   },
   "outputs": [
    {
     "data": {
      "text/plain": [
       "2"
      ]
     },
     "execution_count": 594,
     "metadata": {},
     "output_type": "execute_result"
    }
   ],
   "source": [
    "dave = 2.54\n",
    "if True:\n",
    "    dave = int(dave)\n",
    "dave"
   ]
  },
  {
   "cell_type": "code",
   "execution_count": 170,
   "metadata": {
    "collapsed": false
   },
   "outputs": [],
   "source": [
    "def fill_missing_values_simple(df):\n",
    "    for column in df.columns:\n",
    "        series = df[column]\n",
    "\n",
    "        if series.dtype == 'object':\n",
    "            print(column)\n",
    "            #series = [str(entry) for entry in series]\n",
    "            \n",
    "            #series = pd.Series(series)\n",
    "            \n",
    "            series[pd.isnull(series)] = 'NaN'\n",
    "            \n",
    "            if series.str.contains('NaN').any():\n",
    "                if series.mode()[0] == 'NaN':\n",
    "                    series_temp = series[series != 'NaN']\n",
    "                    modal = series_temp.mode()[0]\n",
    "                else:\n",
    "                    modal = series.mode()[0]\n",
    "                    \n",
    "                df[column][series == 'NaN'] = modal\n",
    "            elif series.str.contains('none').any():\n",
    "                if series.mode()[0] == 'none':\n",
    "                    series_temp = series[series != 'none']\n",
    "                    modal = series_temp.mode()[0]\n",
    "                else:\n",
    "                    modal = series.mode()[0]\n",
    "                    \n",
    "                df[column][series == 'none'] = modal\n",
    "                \n",
    "        elif series.dtype == 'float64':\n",
    "            missing = abs(0 - abs(series)) < 10e-6\n",
    "            not_missing = series[missing == False]\n",
    "            med = not_missing.median()\n",
    "            df[column][missing] = med\n",
    "            \n",
    "        elif (series.dtype == 'int64') & (0 in series):\n",
    "            missing = series == 0\n",
    "            not_missing = series[missing == False]\n",
    "            med = int(not_missing.median())\n",
    "            df[column][missing] = med\n",
    "        else:\n",
    "            continue\n",
    "    return df"
   ]
  },
  {
   "cell_type": "code",
   "execution_count": 171,
   "metadata": {
    "collapsed": false,
    "scrolled": true
   },
   "outputs": [
    {
     "name": "stderr",
     "output_type": "stream",
     "text": [
      "/Users/George/miniconda3/envs/py3k/lib/python3.5/site-packages/ipykernel/__main__.py:34: SettingWithCopyWarning: \n",
      "A value is trying to be set on a copy of a slice from a DataFrame\n",
      "\n",
      "See the caveats in the documentation: http://pandas.pydata.org/pandas-docs/stable/indexing.html#indexing-view-versus-copy\n",
      "/Users/George/miniconda3/envs/py3k/lib/python3.5/site-packages/ipykernel/__main__.py:11: SettingWithCopyWarning: \n",
      "A value is trying to be set on a copy of a slice from a DataFrame\n",
      "\n",
      "See the caveats in the documentation: http://pandas.pydata.org/pandas-docs/stable/indexing.html#indexing-view-versus-copy\n",
      "/Users/George/miniconda3/envs/py3k/lib/python3.5/site-packages/ipykernel/__main__.py:20: SettingWithCopyWarning: \n",
      "A value is trying to be set on a copy of a slice from a DataFrame\n",
      "\n",
      "See the caveats in the documentation: http://pandas.pydata.org/pandas-docs/stable/indexing.html#indexing-view-versus-copy\n"
     ]
    },
    {
     "name": "stdout",
     "output_type": "stream",
     "text": [
      "funder\n"
     ]
    },
    {
     "name": "stderr",
     "output_type": "stream",
     "text": [
      "/Users/George/miniconda3/envs/py3k/lib/python3.5/site-packages/ipykernel/__main__.py:40: SettingWithCopyWarning: \n",
      "A value is trying to be set on a copy of a slice from a DataFrame\n",
      "\n",
      "See the caveats in the documentation: http://pandas.pydata.org/pandas-docs/stable/indexing.html#indexing-view-versus-copy\n"
     ]
    },
    {
     "name": "stdout",
     "output_type": "stream",
     "text": [
      "installer\n",
      "wpt_name\n"
     ]
    },
    {
     "name": "stderr",
     "output_type": "stream",
     "text": [
      "/Users/George/miniconda3/envs/py3k/lib/python3.5/site-packages/ipykernel/__main__.py:28: SettingWithCopyWarning: \n",
      "A value is trying to be set on a copy of a slice from a DataFrame\n",
      "\n",
      "See the caveats in the documentation: http://pandas.pydata.org/pandas-docs/stable/indexing.html#indexing-view-versus-copy\n"
     ]
    },
    {
     "name": "stdout",
     "output_type": "stream",
     "text": [
      "basin\n",
      "subvillage\n",
      "region\n",
      "lga\n",
      "ward\n",
      "public_meeting\n",
      "scheme_management\n",
      "scheme_name\n",
      "permit\n",
      "extraction_type\n",
      "extraction_type_group\n",
      "extraction_type_class\n",
      "management\n",
      "management_group\n",
      "payment\n",
      "payment_type\n",
      "water_quality\n",
      "quality_group\n",
      "quantity\n",
      "quantity_group\n",
      "source\n",
      "source_type\n",
      "source_class\n",
      "waterpoint_type\n",
      "waterpoint_type_group\n"
     ]
    }
   ],
   "source": [
    "train_data_4 = fill_missing_values_simple(train_data_4)"
   ]
  },
  {
   "cell_type": "code",
   "execution_count": 172,
   "metadata": {
    "collapsed": false
   },
   "outputs": [
    {
     "data": {
      "text/html": [
       "<div>\n",
       "<table border=\"1\" class=\"dataframe\">\n",
       "  <thead>\n",
       "    <tr style=\"text-align: right;\">\n",
       "      <th></th>\n",
       "      <th>amount_tsh</th>\n",
       "      <th>funder</th>\n",
       "      <th>gps_height</th>\n",
       "      <th>installer</th>\n",
       "      <th>longitude</th>\n",
       "      <th>latitude</th>\n",
       "      <th>wpt_name</th>\n",
       "      <th>basin</th>\n",
       "      <th>subvillage</th>\n",
       "      <th>region</th>\n",
       "      <th>region_code</th>\n",
       "      <th>district_code</th>\n",
       "      <th>lga</th>\n",
       "      <th>ward</th>\n",
       "      <th>population</th>\n",
       "      <th>public_meeting</th>\n",
       "      <th>scheme_management</th>\n",
       "      <th>scheme_name</th>\n",
       "      <th>permit</th>\n",
       "      <th>construction_year</th>\n",
       "      <th>extraction_type</th>\n",
       "      <th>extraction_type_group</th>\n",
       "      <th>extraction_type_class</th>\n",
       "      <th>management</th>\n",
       "      <th>management_group</th>\n",
       "      <th>payment</th>\n",
       "      <th>payment_type</th>\n",
       "      <th>water_quality</th>\n",
       "      <th>quality_group</th>\n",
       "      <th>quantity</th>\n",
       "      <th>quantity_group</th>\n",
       "      <th>source</th>\n",
       "      <th>source_type</th>\n",
       "      <th>source_class</th>\n",
       "      <th>waterpoint_type</th>\n",
       "      <th>waterpoint_type_group</th>\n",
       "      <th>time_recorded</th>\n",
       "    </tr>\n",
       "  </thead>\n",
       "  <tbody>\n",
       "    <tr>\n",
       "      <th>0</th>\n",
       "      <td>6000.0</td>\n",
       "      <td>Roman</td>\n",
       "      <td>1390</td>\n",
       "      <td>Roman</td>\n",
       "      <td>34.938093</td>\n",
       "      <td>-9.856322</td>\n",
       "      <td>Shuleni</td>\n",
       "      <td>Lake Nyasa</td>\n",
       "      <td>Mnyusi B</td>\n",
       "      <td>Iringa</td>\n",
       "      <td>11</td>\n",
       "      <td>5</td>\n",
       "      <td>Ludewa</td>\n",
       "      <td>Mundindi</td>\n",
       "      <td>109</td>\n",
       "      <td>True</td>\n",
       "      <td>VWC</td>\n",
       "      <td>Roman</td>\n",
       "      <td>False</td>\n",
       "      <td>1999</td>\n",
       "      <td>gravity</td>\n",
       "      <td>gravity</td>\n",
       "      <td>gravity</td>\n",
       "      <td>vwc</td>\n",
       "      <td>user-group</td>\n",
       "      <td>pay annually</td>\n",
       "      <td>annually</td>\n",
       "      <td>soft</td>\n",
       "      <td>good</td>\n",
       "      <td>enough</td>\n",
       "      <td>enough</td>\n",
       "      <td>spring</td>\n",
       "      <td>spring</td>\n",
       "      <td>groundwater</td>\n",
       "      <td>communal standpipe</td>\n",
       "      <td>communal standpipe</td>\n",
       "      <td>15047</td>\n",
       "    </tr>\n",
       "  </tbody>\n",
       "</table>\n",
       "</div>"
      ],
      "text/plain": [
       "   amount_tsh funder  gps_height installer  longitude  latitude wpt_name  \\\n",
       "0      6000.0  Roman        1390     Roman  34.938093 -9.856322  Shuleni   \n",
       "\n",
       "        basin subvillage  region  region_code  district_code     lga  \\\n",
       "0  Lake Nyasa   Mnyusi B  Iringa           11              5  Ludewa   \n",
       "\n",
       "       ward  population public_meeting scheme_management scheme_name permit  \\\n",
       "0  Mundindi         109           True               VWC       Roman  False   \n",
       "\n",
       "   construction_year extraction_type extraction_type_group  \\\n",
       "0               1999         gravity               gravity   \n",
       "\n",
       "  extraction_type_class management management_group       payment  \\\n",
       "0               gravity        vwc       user-group  pay annually   \n",
       "\n",
       "  payment_type water_quality quality_group quantity quantity_group  source  \\\n",
       "0     annually          soft          good   enough         enough  spring   \n",
       "\n",
       "  source_type source_class     waterpoint_type waterpoint_type_group  \\\n",
       "0      spring  groundwater  communal standpipe    communal standpipe   \n",
       "\n",
       "   time_recorded  \n",
       "0          15047  "
      ]
     },
     "execution_count": 172,
     "metadata": {},
     "output_type": "execute_result"
    }
   ],
   "source": [
    "train_data_4.head(1)"
   ]
  },
  {
   "cell_type": "code",
   "execution_count": 173,
   "metadata": {
    "collapsed": true
   },
   "outputs": [],
   "source": [
    "def label_encode_categories(df, le):\n",
    "    for column in df.columns:\n",
    "        #print(column)\n",
    "        if (df[column].dtype == 'object'):\n",
    "            df[column][pd.isnull(df[column])] = 'NaN'\n",
    "            label_encoded = le.fit_transform(df[column])\n",
    "            df[column] = label_encoded\n",
    "    return df"
   ]
  },
  {
   "cell_type": "code",
   "execution_count": 174,
   "metadata": {
    "collapsed": false,
    "scrolled": true
   },
   "outputs": [
    {
     "name": "stderr",
     "output_type": "stream",
     "text": [
      "/Users/George/miniconda3/envs/py3k/lib/python3.5/site-packages/ipykernel/__main__.py:5: SettingWithCopyWarning: \n",
      "A value is trying to be set on a copy of a slice from a DataFrame\n",
      "\n",
      "See the caveats in the documentation: http://pandas.pydata.org/pandas-docs/stable/indexing.html#indexing-view-versus-copy\n"
     ]
    }
   ],
   "source": [
    "train_data_4 = label_encode_categories(train_data_4, le)"
   ]
  },
  {
   "cell_type": "code",
   "execution_count": 175,
   "metadata": {
    "collapsed": false
   },
   "outputs": [
    {
     "data": {
      "text/html": [
       "<div>\n",
       "<table border=\"1\" class=\"dataframe\">\n",
       "  <thead>\n",
       "    <tr style=\"text-align: right;\">\n",
       "      <th></th>\n",
       "      <th>amount_tsh</th>\n",
       "      <th>funder</th>\n",
       "      <th>gps_height</th>\n",
       "      <th>installer</th>\n",
       "      <th>longitude</th>\n",
       "      <th>latitude</th>\n",
       "      <th>wpt_name</th>\n",
       "      <th>basin</th>\n",
       "      <th>subvillage</th>\n",
       "      <th>region</th>\n",
       "      <th>region_code</th>\n",
       "      <th>district_code</th>\n",
       "      <th>lga</th>\n",
       "      <th>ward</th>\n",
       "      <th>population</th>\n",
       "      <th>public_meeting</th>\n",
       "      <th>scheme_management</th>\n",
       "      <th>scheme_name</th>\n",
       "      <th>permit</th>\n",
       "      <th>construction_year</th>\n",
       "      <th>extraction_type</th>\n",
       "      <th>extraction_type_group</th>\n",
       "      <th>extraction_type_class</th>\n",
       "      <th>management</th>\n",
       "      <th>management_group</th>\n",
       "      <th>payment</th>\n",
       "      <th>payment_type</th>\n",
       "      <th>water_quality</th>\n",
       "      <th>quality_group</th>\n",
       "      <th>quantity</th>\n",
       "      <th>quantity_group</th>\n",
       "      <th>source</th>\n",
       "      <th>source_type</th>\n",
       "      <th>source_class</th>\n",
       "      <th>waterpoint_type</th>\n",
       "      <th>waterpoint_type_group</th>\n",
       "      <th>time_recorded</th>\n",
       "    </tr>\n",
       "  </thead>\n",
       "  <tbody>\n",
       "    <tr>\n",
       "      <th>0</th>\n",
       "      <td>6000.0</td>\n",
       "      <td>1369</td>\n",
       "      <td>1390</td>\n",
       "      <td>1518</td>\n",
       "      <td>34.938093</td>\n",
       "      <td>-9.856322</td>\n",
       "      <td>35529</td>\n",
       "      <td>1</td>\n",
       "      <td>11807</td>\n",
       "      <td>3</td>\n",
       "      <td>11</td>\n",
       "      <td>5</td>\n",
       "      <td>51</td>\n",
       "      <td>1426</td>\n",
       "      <td>109</td>\n",
       "      <td>1</td>\n",
       "      <td>7</td>\n",
       "      <td>2245</td>\n",
       "      <td>0</td>\n",
       "      <td>1999</td>\n",
       "      <td>3</td>\n",
       "      <td>1</td>\n",
       "      <td>0</td>\n",
       "      <td>7</td>\n",
       "      <td>4</td>\n",
       "      <td>2</td>\n",
       "      <td>0</td>\n",
       "      <td>6</td>\n",
       "      <td>2</td>\n",
       "      <td>1</td>\n",
       "      <td>1</td>\n",
       "      <td>8</td>\n",
       "      <td>6</td>\n",
       "      <td>0</td>\n",
       "      <td>1</td>\n",
       "      <td>1</td>\n",
       "      <td>15047</td>\n",
       "    </tr>\n",
       "  </tbody>\n",
       "</table>\n",
       "</div>"
      ],
      "text/plain": [
       "   amount_tsh  funder  gps_height  installer  longitude  latitude  wpt_name  \\\n",
       "0      6000.0    1369        1390       1518  34.938093 -9.856322     35529   \n",
       "\n",
       "   basin  subvillage  region  region_code  district_code  lga  ward  \\\n",
       "0      1       11807       3           11              5   51  1426   \n",
       "\n",
       "   population  public_meeting  scheme_management  scheme_name  permit  \\\n",
       "0         109               1                  7         2245       0   \n",
       "\n",
       "   construction_year  extraction_type  extraction_type_group  \\\n",
       "0               1999                3                      1   \n",
       "\n",
       "   extraction_type_class  management  management_group  payment  payment_type  \\\n",
       "0                      0           7                 4        2             0   \n",
       "\n",
       "   water_quality  quality_group  quantity  quantity_group  source  \\\n",
       "0              6              2         1               1       8   \n",
       "\n",
       "   source_type  source_class  waterpoint_type  waterpoint_type_group  \\\n",
       "0            6             0                1                      1   \n",
       "\n",
       "   time_recorded  \n",
       "0          15047  "
      ]
     },
     "execution_count": 175,
     "metadata": {},
     "output_type": "execute_result"
    }
   ],
   "source": [
    "train_data_4.head(1)"
   ]
  },
  {
   "cell_type": "markdown",
   "metadata": {},
   "source": [
    "Now that we have all of the data label encoded, we can have a peek at the correlation between all of the features. A few notable things jump out. The Pearson correlation matrix shows relationships between several features, suggesting that some feature reduction algorithm may be useful to improve the training of our algorithm.\n",
    "\n",
    "In particular features that would appear to duplicate information show highly correlated spots, such as:\n",
    "- gps height, longitude and latitude\n",
    "- installer and funder\n",
    "- district code and region code\n",
    "- management, management group and management scheme\n",
    "- payment and payment type\n",
    "- waterpoint type and waterpoint type class\n",
    "- quantity group and quantity\n",
    "- waterpoint type and extraction type"
   ]
  },
  {
   "cell_type": "code",
   "execution_count": 176,
   "metadata": {
    "collapsed": false
   },
   "outputs": [
    {
     "data": {
      "text/plain": [
       "<matplotlib.axes._subplots.AxesSubplot at 0x119182470>"
      ]
     },
     "execution_count": 176,
     "metadata": {},
     "output_type": "execute_result"
    },
    {
     "data": {
      "image/png": "[encoded data removed]",
      "text/plain": [
       "<matplotlib.figure.Figure at 0x118c41b00>"
      ]
     },
     "metadata": {},
     "output_type": "display_data"
    }
   ],
   "source": [
    "fig, ax = plt.subplots(figsize=(12,10))\n",
    "\n",
    "sns.heatmap(train_data_4[train_data_4 != 0].corr(method='pearson', min_periods=1))"
   ]
  },
  {
   "cell_type": "code",
   "execution_count": 247,
   "metadata": {
    "collapsed": false
   },
   "outputs": [],
   "source": [
    "clf = RandomForestClassifier(n_estimators=50)"
   ]
  },
  {
   "cell_type": "code",
   "execution_count": 248,
   "metadata": {
    "collapsed": false
   },
   "outputs": [],
   "source": [
    "pred = []\n",
    "for train, test in kf:\n",
    "        X = train_data_4.iloc[train,:]\n",
    "    \n",
    "        y = train_labels_4['status_group'].iloc[train]\n",
    "    \n",
    "        clf.fit(X, y)\n",
    "        \n",
    "        test_pred = clf.predict(train_data_4.iloc[test, :])\n",
    "        pred = np.append(pred, test_pred)"
   ]
  },
  {
   "cell_type": "code",
   "execution_count": 181,
   "metadata": {
    "collapsed": false
   },
   "outputs": [
    {
     "data": {
      "text/plain": [
       "0.79823232323232318"
      ]
     },
     "execution_count": 181,
     "metadata": {},
     "output_type": "execute_result"
    }
   ],
   "source": [
    "rate = classification_rate(train_labels_4['status_group'], pred)\n",
    "rate"
   ]
  },
  {
   "cell_type": "markdown",
   "metadata": {},
   "source": [
    "Still no improvement. It looks as though we may have an overfitting problem as we score much lower on the test data."
   ]
  },
  {
   "cell_type": "markdown",
   "metadata": {},
   "source": [
    "### Checking for Overfitting"
   ]
  },
  {
   "cell_type": "code",
   "execution_count": 183,
   "metadata": {
    "collapsed": true
   },
   "outputs": [],
   "source": [
    "n_samples = [5, 10, 50, 100, 500, 1000, 5000, 10000, 50000]"
   ]
  },
  {
   "cell_type": "code",
   "execution_count": 199,
   "metadata": {
    "collapsed": false
   },
   "outputs": [],
   "source": [
    "merged_data = train_data_4.join(train_labels_4['status_group'])"
   ]
  },
  {
   "cell_type": "code",
   "execution_count": 208,
   "metadata": {
    "collapsed": false
   },
   "outputs": [],
   "source": [
    "cv_rate = []\n",
    "train_rate = []\n",
    "\n",
    "for sample_size in n_samples:\n",
    "    \n",
    "    sample_data = merged_data.sample(n=sample_size, random_state=0)\n",
    "    \n",
    "    sample_labels = sample_data.pop('status_group')\n",
    "    \n",
    "    kf = KFold(sample_data.shape[0], n_folds=5, random_state=0)\n",
    "    \n",
    "    cv_predictions = []\n",
    "    train_predictions = []\n",
    "    \n",
    "    for train, cv in kf:\n",
    "        X = sample_data.iloc[train, :]\n",
    "    \n",
    "        y = sample_labels.iloc[train]\n",
    "    \n",
    "        clf.fit(X, y)\n",
    "        \n",
    "        cv_pred = clf.predict(sample_data.iloc[cv, :])\n",
    "        cv_predictions = np.append(cv_predictions, cv_pred)\n",
    "        \n",
    "    train_predictions = clf.predict(sample_data)\n",
    "    #train_predictions = np.append(train_predictions, train_pred)\n",
    "    \n",
    "    cv_rate = np.append(cv_rate, classification_rate(sample_labels, cv_predictions))\n",
    "    train_rate = np.append(train_rate, classification_rate(sample_labels, train_predictions))   "
   ]
  },
  {
   "cell_type": "code",
   "execution_count": 221,
   "metadata": {
    "collapsed": false,
    "scrolled": true
   },
   "outputs": [
    {
     "data": {
      "text/plain": [
       "(0.6, 1)"
      ]
     },
     "execution_count": 221,
     "metadata": {},
     "output_type": "execute_result"
    },
    {
     "data": {
      "image/png": "[encoded data removed]",
      "text/plain": [
       "<matplotlib.figure.Figure at 0x11a9a3710>"
      ]
     },
     "metadata": {},
     "output_type": "display_data"
    }
   ],
   "source": [
    "fig, ax = plt.subplots(1,1)\n",
    "ax.plot(n_samples, train_rate, n_samples, cv_rate)\n",
    "ax.set_ylim(0.6, 1)"
   ]
  },
  {
   "cell_type": "markdown",
   "metadata": {},
   "source": [
    "It appears that the model has high variance -> it is overfitting on the training data. Seeing as we have a fixed amount of data, we are best of reducing and engineering features."
   ]
  },
  {
   "cell_type": "markdown",
   "metadata": {},
   "source": [
    "# Model 5\n",
    "With SVM or PCA"
   ]
  },
  {
   "cell_type": "markdown",
   "metadata": {},
   "source": [
    "# Model 6\n",
    "With feature reduction and clever missing values\n",
    "\n",
    "For each column with missing values present and for every record that has a missing value, use k-nearest neighbours clustering to find samples most like the record in question. For numerical data, take the mean value of the missing feature from the nearest neighbours. For categorical variables find the probability distribution of the missing value among the neighbours and then assign the value with the highest probability to the missing value.\n",
    "\n",
    "```\n",
    "remove redundant features (highly correlated of less granularity)\n",
    "\n",
    "for each column{\n",
    "   if dtype == object{\n",
    "       find and store indices of missing values (create boolean)\n",
    "       binary encode column\n",
    "   }\n",
    "   else if dtype == float or int{\n",
    "       find and store indices of missing values (create boolean)\n",
    "   }\n",
    "}\n",
    "\n",
    "for each column{\n",
    "    \n",
    "    copy dataframe and drop rows with missing values in column\n",
    "    drop column from new dataframe\n",
    "    perform knn on new dataframe\n",
    "    \n",
    "    if dtype == object{\n",
    "        predict cluster for dropped rows\n",
    "        find distribution of missing value in all clusters\n",
    "        find value with max probability for each cluster\n",
    "        for each dropped row{\n",
    "            set missing value in dropped column to max probability value from cluster \n",
    "        }\n",
    "    }\n",
    "    else if dtype == float{\n",
    "        predict cluster for dropped rows\n",
    "        find mean value with for each cluster\n",
    "        for each dropped row{\n",
    "            set missing value in dropped column to mean value from cluster \n",
    "        }\n",
    "    }\n",
    "}\n",
    "```\n"
   ]
  },
  {
   "cell_type": "code",
   "execution_count": 249,
   "metadata": {
    "collapsed": true
   },
   "outputs": [],
   "source": [
    "train_data_6 = train_data.copy()\n",
    "train_labels_6 = train_labels.copy()\n",
    "train_data_6 = train_data_6.drop('id', axis=1)\n",
    "train_data_6 = train_data_6.drop('num_private', axis=1)\n",
    "train_data_6 = train_data_6.drop('recorded_by', axis=1)\n",
    "train_data_6 = date_to_time(train_data_6)"
   ]
  },
  {
   "cell_type": "code",
   "execution_count": 603,
   "metadata": {
    "collapsed": false
   },
   "outputs": [
    {
     "data": {
      "text/plain": [
       "False"
      ]
     },
     "execution_count": 603,
     "metadata": {},
     "output_type": "execute_result"
    }
   ],
   "source": [
    "dave = pd.Series([False, False, False])\n",
    "\n",
    "dave.any()"
   ]
  },
  {
   "cell_type": "code",
   "execution_count": 223,
   "metadata": {
    "collapsed": false
   },
   "outputs": [],
   "source": [
    "def missing_dataframe(df):\n",
    "    \n",
    "    df_missing = df.copy()\n",
    "    \n",
    "    for column in df.columns:\n",
    "        series = df[column]\n",
    "        \n",
    "        if series.dtype == 'object':\n",
    "            series.replace('NaN', np.nan, inplace=True)\n",
    "            \n",
    "            if series.isnull().any():\n",
    "                df_missing[column] = series.isnull()\n",
    "    \n",
    "            elif series.str.contains('none').any():\n",
    "                df_missing[column] = series.str.contains('none')\n",
    "            \n",
    "            else:\n",
    "                df_missing.drop(column, axis=1, inplace=True)\n",
    "                \n",
    "        elif series.dtype == 'float64':\n",
    "            missings = abs(0 - abs(series)) < 10e-6\n",
    "            if (missings == True).any():\n",
    "                df_missing[column] = missings\n",
    "            else:\n",
    "                df_missing.drop(column, axis=1, inplace=True)\n",
    "            \n",
    "        elif series.dtype == 'int64':\n",
    "            missings = series == 0\n",
    "            if (missings == True).any():\n",
    "                df_missing[column] = missings\n",
    "            else:\n",
    "                df_missing.drop(column, axis=1, inplace=True)\n",
    "            \n",
    "    return df_missing"
   ]
  },
  {
   "cell_type": "code",
   "execution_count": 224,
   "metadata": {
    "collapsed": false
   },
   "outputs": [],
   "source": [
    "def max_uniques(df):\n",
    "    uniques = []\n",
    "    for column in df.columns:\n",
    "        series = df[column]\n",
    "        if series.dtype == 'object':\n",
    "            uniques.append(len(series.unique()))\n",
    "    bin_length = len('{0:b}'.format(max(uniques)))\n",
    "    return bin_length"
   ]
  },
  {
   "cell_type": "code",
   "execution_count": 225,
   "metadata": {
    "collapsed": false
   },
   "outputs": [],
   "source": [
    "def binary_uniques(s):\n",
    "    bin_length = len('{0:b}'.format(len(s.unique())))\n",
    "    return bin_length"
   ]
  },
  {
   "cell_type": "code",
   "execution_count": 226,
   "metadata": {
    "collapsed": true
   },
   "outputs": [],
   "source": [
    "def binary_encode(df):\n",
    "    \n",
    "    '''\n",
    "    returns\n",
    "    df_binary - dataFrame with catergoric variables encoded as binary values and separated\n",
    "    df_binary_str - dataFrame with categoric variables encoded as strings of their binary values\n",
    "    binary_headers - the headers for df_binary\n",
    "    '''\n",
    "    \n",
    "    le = preprocessing.LabelEncoder()\n",
    "    \n",
    "    df_binary = df.copy()\n",
    "    df_binary_str = df.copy()\n",
    "    \n",
    "    binary_headers = []\n",
    "    \n",
    "    for column in df.columns:\n",
    "        \n",
    "        #print(column)\n",
    "        \n",
    "        series = df[column]     \n",
    "        \n",
    "        if series.dtype == 'object':\n",
    "            \n",
    "            series = series.apply(lambda x: str(x))\n",
    "            bin_length = binary_uniques(series)\n",
    "            #print(bin_length)\n",
    "            \n",
    "            label_encoded = le.fit_transform(series)\n",
    "            \n",
    "            #binary_column = ['{0:b}'.format(label).zfill(bin_length) for label in label_encoded]\n",
    "            binary_column = ['{0:b}'.format(label).zfill(20) for label in label_encoded]\n",
    "            df_binary_str[column] = binary_column\n",
    "            \n",
    "            binary_columns = [list(binary) for binary in binary_column]         \n",
    "            \n",
    "            #binary_header = [column + '_' + str(i) for i in range(0, bin_length)]\n",
    "            binary_header = [column + '_' + str(i) for i in range(0, 20)]\n",
    "            binary_headers.append(binary_header)\n",
    "            \n",
    "            #print(bin_length)\n",
    "            #print(binary_header)\n",
    "            \n",
    "            binary_df_temp = pd.DataFrame(binary_columns, columns=binary_header)\n",
    "            \n",
    "            df_binary.drop(column, axis=1, inplace=True)\n",
    "            df_binary = pd.concat([df_binary, binary_df_temp], axis=1)\n",
    "            \n",
    "        else:\n",
    "            binary_headers.append(column)\n",
    "            \n",
    "        binary_headers = [header for sub_list in binary_headers for header in sub_list]\n",
    "            \n",
    "    return df_binary, df_binary_str, binary_headers"
   ]
  },
  {
   "cell_type": "code",
   "execution_count": 373,
   "metadata": {
    "collapsed": true
   },
   "outputs": [],
   "source": [
    "def fill_missing_values_knn(df_binary, df_binary_str, df_missing, binary_headers):\n",
    "    # df_binary - fully encoded dataframe\n",
    "    # df_missing - flags True wherever value in column is missing\n",
    "    # df_binary_str - encoded with string binary values\n",
    "    # binary_headers - header values for object type columns in df_binary\n",
    "    \n",
    "    le = preprocessing.LabelEncoder()\n",
    "    \n",
    "    b_h = [header for sub_list in binary_headers for header in sub_list if len(header) > 1]\n",
    "    \n",
    "    df_missing_inv = df_missing == False # flags True wherver a value is present\n",
    "    \n",
    "    for column in df_missing.columns: # loop through all columns where missing values are present\n",
    "        print(column)\n",
    "        if df_binary_str[column].dtype == 'float64': # for floats\n",
    "            \n",
    "            series_present = df_missing_inv[column]         # create series flagging where the present values are\n",
    "            series_missing = df_missing[column]\n",
    "            \n",
    "            df_binary_temp = df_binary.drop(column, axis=1) # drop column missing values we care about\n",
    "            df_binary_temp = df_binary_temp[series_present] # create X input for our classifier\n",
    "            \n",
    "            df_binary_labels = df_binary_str[column] # get relevant column of values from partially encoded dataframe\n",
    "            # select only rows without missing values for y input\n",
    "            df_binary_labels = df_binary_labels[series_present].astype(int)\n",
    "            df_binary_labels = df_binary_labels.values.reshape(-1)\n",
    "            #df_binary_labels.tolist()\n",
    "            \n",
    "            neigh = KNeighborsClassifier(n_neighbors=5) # instantiate classifier\n",
    "            \n",
    "            neigh.fit(df_binary_temp, df_binary_labels) # fit classifier to rows with labels\n",
    "            \n",
    "            # create dataframe of rows with missing values for fitting\n",
    "            df_binary_missing = df_binary[series_missing] \n",
    "            df_binary_missing.drop(column, axis=1, inplace=True)\n",
    "            \n",
    "            label, index = neigh.kneighbors(df_binary_missing, n_neighbors=5) # fit and get indices of 5 neighbours\n",
    "            \n",
    "            missing_means = [np.mean(df_binary_labels[i]) for i in index]\n",
    "            df_binary[column][series_missing] = missing_means        \n",
    "            \n",
    "        elif df_binary_str[column].dtype == 'int64':\n",
    "            series_present = df_missing_inv[column]         # create series flagging where the present values are\n",
    "            series_missing = df_missing[column]\n",
    "            \n",
    "            df_binary_temp = df_binary.drop(column, axis=1) # drop column missing values we care about\n",
    "            df_binary_temp = df_binary_temp[series_present] # create X input for our classifier\n",
    "            \n",
    "            df_binary_labels = df_binary_str[column] # get relevant column of values from partially encoded dataframe\n",
    "            df_binary_labels = df_binary_labels[series_present].astype(int) # select only rows without missing values for y input\n",
    "            df_binary_labels = df_binary_labels.values.reshape(-1)\n",
    "            #df_binary_labels.tolist()\n",
    "            \n",
    "            # instantiate classifier\n",
    "            neigh = KNeighborsClassifier(n_neighbors=5) \n",
    "            \n",
    "            # fit classifier to rows with labels\n",
    "            neigh.fit(df_binary_temp, df_binary_labels) \n",
    "            \n",
    "            # create dataframe of rows with missing values for fitting\n",
    "            df_binary_missing = df_binary[series_missing] \n",
    "            df_binary_missing.drop(column, axis=1, inplace=True)\n",
    "            \n",
    "            # fit and get indices of 5 neighbours\n",
    "            label, index = neigh.kneighbors(df_binary_missing, n_neighbors=5) \n",
    "            \n",
    "            missing_means = [int(np.mean(df_binary_labels[i])) for i in index]\n",
    "            df_binary[column][series_missing] = missing_means\n",
    "        \n",
    "        elif df_binary_str[column].dtype == 'object':\n",
    "            \n",
    "            # booleans indicating rows where values in feature are present and missing\n",
    "            series_present = df_missing_inv[column]\n",
    "            series_missing = df_missing[column]\n",
    "            \n",
    "            # get header names of all columns in binary encoded feature\n",
    "            columns = [c for c in b_h if re.search(column, c)]\n",
    "            \n",
    "            # dataFrame with columns of interest dropped\n",
    "            df_binary_temp = df_binary.drop(columns, axis=1)\n",
    "            # keep only rows where values exist in the feature of interest\n",
    "            df_binary_temp = df_binary_temp[series_present]\n",
    "            \n",
    "            # grab string based binary labels for feature of interest where values exist\n",
    "            df_binary_labels = df_binary_str[column]          \n",
    "            df_binary_labels = df_binary_labels[series_present]\n",
    "            \n",
    "            #df_binary_labels_encode = le.fit_transform(df_binary_labels)\n",
    "            \n",
    "            # reshape labels into numpy array\n",
    "            df_binary_labels = df_binary_labels.values.reshape(-1)\n",
    "            \n",
    "            # create classifier based on all other features where feature values exist\n",
    "            neigh = KNeighborsClassifier(n_neighbors=5)\n",
    "            neigh.fit(df_binary_temp, df_binary_labels)\n",
    "            \n",
    "            # create dataFrame of rows where feature value is missing excluding current feature column\n",
    "            df_binary_missing = df_binary[series_missing]\n",
    "            df_binary_missing.drop(columns, axis=1, inplace=True)\n",
    "            \n",
    "            # \n",
    "            label, indices = neigh.kneighbors(df_binary_missing, n_neighbors=5)\n",
    "            \n",
    "            #print(df_binary_labels)\n",
    "            #print(label)\n",
    "            #print(indices)\n",
    "            \n",
    "            missing_mode = [stats.mode(df_binary_labels[i]) for i in indices]\n",
    "            #print(missing_mode)\n",
    "            missing_mode = [list(list(x.mode)[0]) for x in missing_mode]\n",
    "            df_insert = pd.DataFrame(missing_mode)\n",
    "            df_binary[columns][series_missing] = df_insert\n",
    "            \n",
    "    return df_binary"
   ]
  },
  {
   "cell_type": "code",
   "execution_count": 296,
   "metadata": {
    "collapsed": false
   },
   "outputs": [],
   "source": [
    "df_missing = missing_dataframe(train_data_6)\n",
    "df_binary, df_binary_str, binary_headers = binary_encode(train_data_6)"
   ]
  },
  {
   "cell_type": "code",
   "execution_count": 374,
   "metadata": {
    "collapsed": false,
    "scrolled": true
   },
   "outputs": [
    {
     "name": "stdout",
     "output_type": "stream",
     "text": [
      "amount_tsh\n"
     ]
    },
    {
     "name": "stderr",
     "output_type": "stream",
     "text": [
      "/Users/George/miniconda3/envs/py3k/lib/python3.5/site-packages/ipykernel/__main__.py:33: SettingWithCopyWarning: \n",
      "A value is trying to be set on a copy of a slice from a DataFrame\n",
      "\n",
      "See the caveats in the documentation: http://pandas.pydata.org/pandas-docs/stable/indexing.html#indexing-view-versus-copy\n",
      "/Users/George/miniconda3/envs/py3k/lib/python3.5/site-packages/ipykernel/__main__.py:38: SettingWithCopyWarning: \n",
      "A value is trying to be set on a copy of a slice from a DataFrame\n",
      "\n",
      "See the caveats in the documentation: http://pandas.pydata.org/pandas-docs/stable/indexing.html#indexing-view-versus-copy\n"
     ]
    },
    {
     "name": "stdout",
     "output_type": "stream",
     "text": [
      "funder\n"
     ]
    },
    {
     "name": "stderr",
     "output_type": "stream",
     "text": [
      "/Users/George/miniconda3/envs/py3k/lib/python3.5/site-packages/ipykernel/__main__.py:97: SettingWithCopyWarning: \n",
      "A value is trying to be set on a copy of a slice from a DataFrame\n",
      "\n",
      "See the caveats in the documentation: http://pandas.pydata.org/pandas-docs/stable/indexing.html#indexing-view-versus-copy\n",
      "/Users/George/miniconda3/envs/py3k/lib/python3.5/site-packages/scipy/stats/stats.py:257: RuntimeWarning: The input array could not be properly checked for nan values. nan values will be ignored.\n",
      "  \"values. nan values will be ignored.\", RuntimeWarning)\n",
      "/Users/George/miniconda3/envs/py3k/lib/python3.5/site-packages/ipykernel/__main__.py:110: SettingWithCopyWarning: \n",
      "A value is trying to be set on a copy of a slice from a DataFrame.\n",
      "Try using .loc[row_indexer,col_indexer] = value instead\n",
      "\n",
      "See the caveats in the documentation: http://pandas.pydata.org/pandas-docs/stable/indexing.html#indexing-view-versus-copy\n",
      "/Users/George/miniconda3/envs/py3k/lib/python3.5/site-packages/pandas/core/frame.py:2434: SettingWithCopyWarning: \n",
      "A value is trying to be set on a copy of a slice from a DataFrame\n",
      "\n",
      "See the caveats in the documentation: http://pandas.pydata.org/pandas-docs/stable/indexing.html#indexing-view-versus-copy\n",
      "  self.ix._setitem_with_indexer(indexer, value)\n",
      "/Users/George/miniconda3/envs/py3k/lib/python3.5/site-packages/pandas/core/frame.py:2414: SettingWithCopyWarning: \n",
      "A value is trying to be set on a copy of a slice from a DataFrame\n",
      "\n",
      "See the caveats in the documentation: http://pandas.pydata.org/pandas-docs/stable/indexing.html#indexing-view-versus-copy\n",
      "  self._setitem_array(key, value)\n"
     ]
    },
    {
     "name": "stdout",
     "output_type": "stream",
     "text": [
      "gps_height\n"
     ]
    },
    {
     "name": "stderr",
     "output_type": "stream",
     "text": [
      "/Users/George/miniconda3/envs/py3k/lib/python3.5/site-packages/ipykernel/__main__.py:60: SettingWithCopyWarning: \n",
      "A value is trying to be set on a copy of a slice from a DataFrame\n",
      "\n",
      "See the caveats in the documentation: http://pandas.pydata.org/pandas-docs/stable/indexing.html#indexing-view-versus-copy\n",
      "/Users/George/miniconda3/envs/py3k/lib/python3.5/site-packages/ipykernel/__main__.py:66: SettingWithCopyWarning: \n",
      "A value is trying to be set on a copy of a slice from a DataFrame\n",
      "\n",
      "See the caveats in the documentation: http://pandas.pydata.org/pandas-docs/stable/indexing.html#indexing-view-versus-copy\n"
     ]
    },
    {
     "name": "stdout",
     "output_type": "stream",
     "text": [
      "installer\n",
      "longitude\n",
      "latitude\n",
      "wpt_name\n",
      "subvillage\n",
      "district_code\n",
      "population\n",
      "public_meeting\n",
      "scheme_management\n",
      "scheme_name\n",
      "permit\n",
      "construction_year\n"
     ]
    }
   ],
   "source": [
    "df_test = fill_missing_values_knn(df_binary, df_binary_str, df_missing, binary_headers)"
   ]
  },
  {
   "cell_type": "code",
   "execution_count": 376,
   "metadata": {
    "collapsed": false
   },
   "outputs": [],
   "source": [
    "clf = RandomForestClassifier()"
   ]
  },
  {
   "cell_type": "code",
   "execution_count": 377,
   "metadata": {
    "collapsed": true
   },
   "outputs": [],
   "source": [
    "kf = KFold(df_test.shape[0], n_folds=5, random_state=0)"
   ]
  },
  {
   "cell_type": "code",
   "execution_count": 378,
   "metadata": {
    "collapsed": false
   },
   "outputs": [],
   "source": [
    "pred = []\n",
    "\n",
    "for train, test in kf:\n",
    "    X = df_test.iloc[train,:]\n",
    "\n",
    "    y = train_labels_6['status_group'].iloc[train]\n",
    "\n",
    "    clf.fit(X, y)\n",
    "\n",
    "    test_pred = clf.predict(df_test.iloc[test, :])\n",
    "    pred = np.append(pred, test_pred)"
   ]
  },
  {
   "cell_type": "code",
   "execution_count": 379,
   "metadata": {
    "collapsed": false
   },
   "outputs": [
    {
     "data": {
      "text/plain": [
       "0.801969696969697"
      ]
     },
     "execution_count": 379,
     "metadata": {},
     "output_type": "execute_result"
    }
   ],
   "source": [
    "rate = classification_rate(train_labels_6['status_group'], pred)\n",
    "rate"
   ]
  },
  {
   "cell_type": "code",
   "execution_count": 11,
   "metadata": {
    "collapsed": false
   },
   "outputs": [],
   "source": [
    "def cat_to_dummy(df, column):\n",
    "    for column in df.columns:\n",
    "        if df[column].dtype == 'object':\n",
    "            df = pd.concat([df, pd.get_dummies(df[column])], axis=1, copy=False)\n",
    "            df.drop(column, axis=1, inplace=True)\n",
    "    return df"
   ]
  },
  {
   "cell_type": "markdown",
   "metadata": {},
   "source": [
    "# Model 7\n",
    "Manual feature removal"
   ]
  },
  {
   "cell_type": "code",
   "execution_count": 498,
   "metadata": {
    "collapsed": true
   },
   "outputs": [],
   "source": [
    "train_data_7 = train_data.copy()\n",
    "train_labels_7 = train_labels.copy()\n",
    "\n",
    "to_remove = ['waterpoint_type', 'source_type', 'source_class', 'quantity_group', 'quality_group', 'payment_type',\\\n",
    "             'scheme_management', 'extraction_type_group', 'extraction_type_class', 'region_code', 'district_code',\\\n",
    "            'funder', 'amount_tsh', 'gps_height', 'scheme_name']\n",
    "\n",
    "remove_features(train_data_7, extra_columns=to_remove)\n",
    "train_data_7 = date_to_time(train_data_7)"
   ]
  },
  {
   "cell_type": "code",
   "execution_count": 499,
   "metadata": {
    "collapsed": false
   },
   "outputs": [],
   "source": [
    "df_missing = missing_dataframe(train_data_7)\n",
    "df_binary, df_binary_str, binary_headers = binary_encode(train_data_7)"
   ]
  },
  {
   "cell_type": "code",
   "execution_count": 500,
   "metadata": {
    "collapsed": false,
    "scrolled": true
   },
   "outputs": [
    {
     "name": "stdout",
     "output_type": "stream",
     "text": [
      "installer\n"
     ]
    },
    {
     "name": "stderr",
     "output_type": "stream",
     "text": [
      "/Users/George/miniconda3/envs/py3k/lib/python3.5/site-packages/ipykernel/__main__.py:97: SettingWithCopyWarning: \n",
      "A value is trying to be set on a copy of a slice from a DataFrame\n",
      "\n",
      "See the caveats in the documentation: http://pandas.pydata.org/pandas-docs/stable/indexing.html#indexing-view-versus-copy\n",
      "/Users/George/miniconda3/envs/py3k/lib/python3.5/site-packages/scipy/stats/stats.py:257: RuntimeWarning: The input array could not be properly checked for nan values. nan values will be ignored.\n",
      "  \"values. nan values will be ignored.\", RuntimeWarning)\n",
      "/Users/George/miniconda3/envs/py3k/lib/python3.5/site-packages/ipykernel/__main__.py:110: SettingWithCopyWarning: \n",
      "A value is trying to be set on a copy of a slice from a DataFrame.\n",
      "Try using .loc[row_indexer,col_indexer] = value instead\n",
      "\n",
      "See the caveats in the documentation: http://pandas.pydata.org/pandas-docs/stable/indexing.html#indexing-view-versus-copy\n",
      "/Users/George/miniconda3/envs/py3k/lib/python3.5/site-packages/pandas/core/frame.py:2434: SettingWithCopyWarning: \n",
      "A value is trying to be set on a copy of a slice from a DataFrame\n",
      "\n",
      "See the caveats in the documentation: http://pandas.pydata.org/pandas-docs/stable/indexing.html#indexing-view-versus-copy\n",
      "  self.ix._setitem_with_indexer(indexer, value)\n",
      "/Users/George/miniconda3/envs/py3k/lib/python3.5/site-packages/pandas/core/frame.py:2414: SettingWithCopyWarning: \n",
      "A value is trying to be set on a copy of a slice from a DataFrame\n",
      "\n",
      "See the caveats in the documentation: http://pandas.pydata.org/pandas-docs/stable/indexing.html#indexing-view-versus-copy\n",
      "  self._setitem_array(key, value)\n"
     ]
    },
    {
     "name": "stdout",
     "output_type": "stream",
     "text": [
      "longitude\n"
     ]
    },
    {
     "name": "stderr",
     "output_type": "stream",
     "text": [
      "/Users/George/miniconda3/envs/py3k/lib/python3.5/site-packages/ipykernel/__main__.py:33: SettingWithCopyWarning: \n",
      "A value is trying to be set on a copy of a slice from a DataFrame\n",
      "\n",
      "See the caveats in the documentation: http://pandas.pydata.org/pandas-docs/stable/indexing.html#indexing-view-versus-copy\n",
      "/Users/George/miniconda3/envs/py3k/lib/python3.5/site-packages/ipykernel/__main__.py:38: SettingWithCopyWarning: \n",
      "A value is trying to be set on a copy of a slice from a DataFrame\n",
      "\n",
      "See the caveats in the documentation: http://pandas.pydata.org/pandas-docs/stable/indexing.html#indexing-view-versus-copy\n"
     ]
    },
    {
     "name": "stdout",
     "output_type": "stream",
     "text": [
      "latitude\n",
      "wpt_name\n",
      "subvillage\n",
      "population\n"
     ]
    },
    {
     "name": "stderr",
     "output_type": "stream",
     "text": [
      "/Users/George/miniconda3/envs/py3k/lib/python3.5/site-packages/ipykernel/__main__.py:60: SettingWithCopyWarning: \n",
      "A value is trying to be set on a copy of a slice from a DataFrame\n",
      "\n",
      "See the caveats in the documentation: http://pandas.pydata.org/pandas-docs/stable/indexing.html#indexing-view-versus-copy\n",
      "/Users/George/miniconda3/envs/py3k/lib/python3.5/site-packages/ipykernel/__main__.py:66: SettingWithCopyWarning: \n",
      "A value is trying to be set on a copy of a slice from a DataFrame\n",
      "\n",
      "See the caveats in the documentation: http://pandas.pydata.org/pandas-docs/stable/indexing.html#indexing-view-versus-copy\n"
     ]
    },
    {
     "name": "stdout",
     "output_type": "stream",
     "text": [
      "public_meeting\n",
      "permit\n",
      "construction_year\n"
     ]
    }
   ],
   "source": [
    "df_test = fill_missing_values_knn(df_binary, df_binary_str, df_missing, binary_headers)"
   ]
  },
  {
   "cell_type": "code",
   "execution_count": 501,
   "metadata": {
    "collapsed": false
   },
   "outputs": [],
   "source": [
    "clf = RandomForestClassifier(n_estimators=200)"
   ]
  },
  {
   "cell_type": "code",
   "execution_count": 502,
   "metadata": {
    "collapsed": true
   },
   "outputs": [],
   "source": [
    "kf = KFold(df_test.shape[0], n_folds=5, random_state=0)"
   ]
  },
  {
   "cell_type": "code",
   "execution_count": 503,
   "metadata": {
    "collapsed": false
   },
   "outputs": [],
   "source": [
    "pred = []\n",
    "\n",
    "for train, test in kf:\n",
    "    X = df_test.iloc[train,:]\n",
    "\n",
    "    y = train_labels_7['status_group'].iloc[train]\n",
    "\n",
    "    clf.fit(X, y)\n",
    "\n",
    "    test_pred = clf.predict(df_test.iloc[test, :])\n",
    "    pred = np.append(pred, test_pred)"
   ]
  },
  {
   "cell_type": "code",
   "execution_count": 504,
   "metadata": {
    "collapsed": false
   },
   "outputs": [
    {
     "data": {
      "text/plain": [
       "0.7945117845117845"
      ]
     },
     "execution_count": 504,
     "metadata": {},
     "output_type": "execute_result"
    }
   ],
   "source": [
    "rate = classification_rate(train_labels_7['status_group'], pred)\n",
    "rate"
   ]
  },
  {
   "cell_type": "code",
   "execution_count": 460,
   "metadata": {
    "collapsed": true
   },
   "outputs": [],
   "source": [
    "n_samples = [5, 10, 50, 100, 500, 1000, 5000, 10000, 50000]"
   ]
  },
  {
   "cell_type": "code",
   "execution_count": 463,
   "metadata": {
    "collapsed": false
   },
   "outputs": [],
   "source": [
    "merged_data = df_test.join(train_labels_7['status_group'])"
   ]
  },
  {
   "cell_type": "code",
   "execution_count": 464,
   "metadata": {
    "collapsed": false
   },
   "outputs": [],
   "source": [
    "cv_rate = []\n",
    "train_rate = []\n",
    "\n",
    "for sample_size in n_samples:\n",
    "    \n",
    "    sample_data = merged_data.sample(n=sample_size, random_state=0)\n",
    "    \n",
    "    sample_labels = sample_data.pop('status_group')\n",
    "    \n",
    "    kf = KFold(sample_data.shape[0], n_folds=5, random_state=0)\n",
    "    \n",
    "    cv_predictions = []\n",
    "    train_predictions = []\n",
    "    \n",
    "    for train, cv in kf:\n",
    "        X = sample_data.iloc[train, :]\n",
    "    \n",
    "        y = sample_labels.iloc[train]\n",
    "    \n",
    "        clf.fit(X, y)\n",
    "        \n",
    "        cv_pred = clf.predict(sample_data.iloc[cv, :])\n",
    "        cv_predictions = np.append(cv_predictions, cv_pred)\n",
    "        \n",
    "    train_predictions = clf.predict(sample_data)\n",
    "    #train_predictions = np.append(train_predictions, train_pred)\n",
    "    \n",
    "    cv_rate = np.append(cv_rate, classification_rate(sample_labels, cv_predictions))\n",
    "    train_rate = np.append(train_rate, classification_rate(sample_labels, train_predictions))  "
   ]
  },
  {
   "cell_type": "code",
   "execution_count": 465,
   "metadata": {
    "collapsed": false,
    "scrolled": false
   },
   "outputs": [
    {
     "data": {
      "text/plain": [
       "(0.6, 1)"
      ]
     },
     "execution_count": 465,
     "metadata": {},
     "output_type": "execute_result"
    },
    {
     "data": {
      "image/png": "[encoded data removed]",
      "text/plain": [
       "<matplotlib.figure.Figure at 0x152935cc0>"
      ]
     },
     "metadata": {},
     "output_type": "display_data"
    }
   ],
   "source": [
    "fig, ax = plt.subplots(1,1)\n",
    "ax.plot(n_samples, train_rate, n_samples, cv_rate)\n",
    "ax.set_ylim(0.6, 1)"
   ]
  },
  {
   "cell_type": "markdown",
   "metadata": {},
   "source": [
    "# Model 8\n",
    "- Simple missing values\n",
    "- Manual feature removal"
   ]
  },
  {
   "cell_type": "code",
   "execution_count": 505,
   "metadata": {
    "collapsed": true
   },
   "outputs": [],
   "source": [
    "train_data_8 = train_data.copy()\n",
    "train_labels_8 = train_labels.copy()\n",
    "to_remove = ['waterpoint_type', 'source_type', 'source_class', 'quantity_group', 'quality_group', 'payment_type',\\\n",
    "             'scheme_management', 'extraction_type_group', 'extraction_type_class', 'region_code', 'district_code',\\\n",
    "            'funder', 'amount_tsh', 'gps_height', 'scheme_name']\n",
    "\n",
    "remove_features(train_data_8, extra_columns=to_remove)\n",
    "\n",
    "train_data_8 = date_to_time(train_data_8)"
   ]
  },
  {
   "cell_type": "code",
   "execution_count": 506,
   "metadata": {
    "collapsed": false
   },
   "outputs": [
    {
     "name": "stdout",
     "output_type": "stream",
     "text": [
      "installer\n"
     ]
    },
    {
     "name": "stderr",
     "output_type": "stream",
     "text": [
      "/Users/George/miniconda3/envs/py3k/lib/python3.5/site-packages/ipykernel/__main__.py:11: SettingWithCopyWarning: \n",
      "A value is trying to be set on a copy of a slice from a DataFrame\n",
      "\n",
      "See the caveats in the documentation: http://pandas.pydata.org/pandas-docs/stable/indexing.html#indexing-view-versus-copy\n",
      "/Users/George/miniconda3/envs/py3k/lib/python3.5/site-packages/ipykernel/__main__.py:20: SettingWithCopyWarning: \n",
      "A value is trying to be set on a copy of a slice from a DataFrame\n",
      "\n",
      "See the caveats in the documentation: http://pandas.pydata.org/pandas-docs/stable/indexing.html#indexing-view-versus-copy\n",
      "/Users/George/miniconda3/envs/py3k/lib/python3.5/site-packages/ipykernel/__main__.py:34: SettingWithCopyWarning: \n",
      "A value is trying to be set on a copy of a slice from a DataFrame\n",
      "\n",
      "See the caveats in the documentation: http://pandas.pydata.org/pandas-docs/stable/indexing.html#indexing-view-versus-copy\n"
     ]
    },
    {
     "name": "stdout",
     "output_type": "stream",
     "text": [
      "wpt_name\n"
     ]
    },
    {
     "name": "stderr",
     "output_type": "stream",
     "text": [
      "/Users/George/miniconda3/envs/py3k/lib/python3.5/site-packages/ipykernel/__main__.py:28: SettingWithCopyWarning: \n",
      "A value is trying to be set on a copy of a slice from a DataFrame\n",
      "\n",
      "See the caveats in the documentation: http://pandas.pydata.org/pandas-docs/stable/indexing.html#indexing-view-versus-copy\n"
     ]
    },
    {
     "name": "stdout",
     "output_type": "stream",
     "text": [
      "basin\n",
      "subvillage\n",
      "region\n",
      "lga\n",
      "ward\n"
     ]
    },
    {
     "name": "stderr",
     "output_type": "stream",
     "text": [
      "/Users/George/miniconda3/envs/py3k/lib/python3.5/site-packages/ipykernel/__main__.py:40: SettingWithCopyWarning: \n",
      "A value is trying to be set on a copy of a slice from a DataFrame\n",
      "\n",
      "See the caveats in the documentation: http://pandas.pydata.org/pandas-docs/stable/indexing.html#indexing-view-versus-copy\n"
     ]
    },
    {
     "name": "stdout",
     "output_type": "stream",
     "text": [
      "public_meeting\n",
      "permit\n",
      "extraction_type\n",
      "management\n",
      "management_group\n",
      "payment\n",
      "water_quality\n",
      "quantity\n",
      "source\n",
      "waterpoint_type_group\n"
     ]
    },
    {
     "name": "stderr",
     "output_type": "stream",
     "text": [
      "/Users/George/miniconda3/envs/py3k/lib/python3.5/site-packages/ipykernel/__main__.py:5: SettingWithCopyWarning: \n",
      "A value is trying to be set on a copy of a slice from a DataFrame\n",
      "\n",
      "See the caveats in the documentation: http://pandas.pydata.org/pandas-docs/stable/indexing.html#indexing-view-versus-copy\n"
     ]
    }
   ],
   "source": [
    "train_data_8 = fill_missing_values_simple(train_data_8)\n",
    "\n",
    "train_data_8 = label_encode_categories(train_data_8, le)"
   ]
  },
  {
   "cell_type": "code",
   "execution_count": 542,
   "metadata": {
    "collapsed": false
   },
   "outputs": [],
   "source": [
    "clf = RandomForestClassifier(n_estimators=500, n_jobs=3)"
   ]
  },
  {
   "cell_type": "code",
   "execution_count": 543,
   "metadata": {
    "collapsed": false
   },
   "outputs": [],
   "source": [
    "pred = []\n",
    "for train, test in kf:\n",
    "        X = train_data_8.iloc[train,:]\n",
    "    \n",
    "        y = train_labels_8['status_group'].iloc[train]\n",
    "    \n",
    "        clf.fit(X, y)\n",
    "        \n",
    "        test_pred = clf.predict(train_data_8.iloc[test, :])\n",
    "        pred = np.append(pred, test_pred)"
   ]
  },
  {
   "cell_type": "code",
   "execution_count": 544,
   "metadata": {
    "collapsed": false
   },
   "outputs": [
    {
     "data": {
      "text/plain": [
       "0.80949494949494949"
      ]
     },
     "execution_count": 544,
     "metadata": {},
     "output_type": "execute_result"
    }
   ],
   "source": [
    "rate = classification_rate(train_labels_8['status_group'], pred)\n",
    "rate"
   ]
  },
  {
   "cell_type": "code",
   "execution_count": null,
   "metadata": {
    "collapsed": true
   },
   "outputs": [],
   "source": []
  },
  {
   "cell_type": "markdown",
   "metadata": {},
   "source": [
    "# Predictions"
   ]
  },
  {
   "cell_type": "code",
   "execution_count": 564,
   "metadata": {
    "collapsed": true
   },
   "outputs": [],
   "source": [
    "test_data = pd.read_csv('data/test_set.csv')"
   ]
  },
  {
   "cell_type": "code",
   "execution_count": 565,
   "metadata": {
    "collapsed": false
   },
   "outputs": [],
   "source": [
    "test_data = test_data.drop('id', axis=1)\n",
    "test_data = test_data.drop('num_private', axis=1)\n",
    "test_data = test_data.drop('recorded_by', axis=1)\n",
    "test_data = date_to_time(test_data)"
   ]
  },
  {
   "cell_type": "code",
   "execution_count": 566,
   "metadata": {
    "collapsed": false
   },
   "outputs": [
    {
     "name": "stderr",
     "output_type": "stream",
     "text": [
      "/Users/George/miniconda3/envs/py3k/lib/python3.5/site-packages/ipykernel/__main__.py:5: SettingWithCopyWarning: \n",
      "A value is trying to be set on a copy of a slice from a DataFrame\n",
      "\n",
      "See the caveats in the documentation: http://pandas.pydata.org/pandas-docs/stable/indexing.html#indexing-view-versus-copy\n"
     ]
    }
   ],
   "source": [
    "test_data = encode_categories(test_data, le)"
   ]
  },
  {
   "cell_type": "code",
   "execution_count": 454,
   "metadata": {
    "collapsed": false,
    "scrolled": true
   },
   "outputs": [],
   "source": [
    "df_missing_test = missing_dataframe(test_data)\n",
    "df_binary_test, df_binary_str_test, binary_headers_test = binary_encode(test_data)"
   ]
  },
  {
   "cell_type": "code",
   "execution_count": 455,
   "metadata": {
    "collapsed": false,
    "scrolled": true
   },
   "outputs": [
    {
     "name": "stdout",
     "output_type": "stream",
     "text": [
      "amount_tsh\n"
     ]
    },
    {
     "name": "stderr",
     "output_type": "stream",
     "text": [
      "/Users/George/miniconda3/envs/py3k/lib/python3.5/site-packages/ipykernel/__main__.py:33: SettingWithCopyWarning: \n",
      "A value is trying to be set on a copy of a slice from a DataFrame\n",
      "\n",
      "See the caveats in the documentation: http://pandas.pydata.org/pandas-docs/stable/indexing.html#indexing-view-versus-copy\n",
      "/Users/George/miniconda3/envs/py3k/lib/python3.5/site-packages/ipykernel/__main__.py:38: SettingWithCopyWarning: \n",
      "A value is trying to be set on a copy of a slice from a DataFrame\n",
      "\n",
      "See the caveats in the documentation: http://pandas.pydata.org/pandas-docs/stable/indexing.html#indexing-view-versus-copy\n"
     ]
    },
    {
     "name": "stdout",
     "output_type": "stream",
     "text": [
      "gps_height\n"
     ]
    },
    {
     "name": "stderr",
     "output_type": "stream",
     "text": [
      "/Users/George/miniconda3/envs/py3k/lib/python3.5/site-packages/ipykernel/__main__.py:60: SettingWithCopyWarning: \n",
      "A value is trying to be set on a copy of a slice from a DataFrame\n",
      "\n",
      "See the caveats in the documentation: http://pandas.pydata.org/pandas-docs/stable/indexing.html#indexing-view-versus-copy\n",
      "/Users/George/miniconda3/envs/py3k/lib/python3.5/site-packages/ipykernel/__main__.py:66: SettingWithCopyWarning: \n",
      "A value is trying to be set on a copy of a slice from a DataFrame\n",
      "\n",
      "See the caveats in the documentation: http://pandas.pydata.org/pandas-docs/stable/indexing.html#indexing-view-versus-copy\n"
     ]
    },
    {
     "name": "stdout",
     "output_type": "stream",
     "text": [
      "longitude\n",
      "latitude\n",
      "wpt_name\n"
     ]
    },
    {
     "name": "stderr",
     "output_type": "stream",
     "text": [
      "/Users/George/miniconda3/envs/py3k/lib/python3.5/site-packages/ipykernel/__main__.py:97: SettingWithCopyWarning: \n",
      "A value is trying to be set on a copy of a slice from a DataFrame\n",
      "\n",
      "See the caveats in the documentation: http://pandas.pydata.org/pandas-docs/stable/indexing.html#indexing-view-versus-copy\n",
      "/Users/George/miniconda3/envs/py3k/lib/python3.5/site-packages/scipy/stats/stats.py:257: RuntimeWarning: The input array could not be properly checked for nan values. nan values will be ignored.\n",
      "  \"values. nan values will be ignored.\", RuntimeWarning)\n",
      "/Users/George/miniconda3/envs/py3k/lib/python3.5/site-packages/ipykernel/__main__.py:110: SettingWithCopyWarning: \n",
      "A value is trying to be set on a copy of a slice from a DataFrame.\n",
      "Try using .loc[row_indexer,col_indexer] = value instead\n",
      "\n",
      "See the caveats in the documentation: http://pandas.pydata.org/pandas-docs/stable/indexing.html#indexing-view-versus-copy\n",
      "/Users/George/miniconda3/envs/py3k/lib/python3.5/site-packages/pandas/core/frame.py:2434: SettingWithCopyWarning: \n",
      "A value is trying to be set on a copy of a slice from a DataFrame\n",
      "\n",
      "See the caveats in the documentation: http://pandas.pydata.org/pandas-docs/stable/indexing.html#indexing-view-versus-copy\n",
      "  self.ix._setitem_with_indexer(indexer, value)\n",
      "/Users/George/miniconda3/envs/py3k/lib/python3.5/site-packages/pandas/core/frame.py:2414: SettingWithCopyWarning: \n",
      "A value is trying to be set on a copy of a slice from a DataFrame\n",
      "\n",
      "See the caveats in the documentation: http://pandas.pydata.org/pandas-docs/stable/indexing.html#indexing-view-versus-copy\n",
      "  self._setitem_array(key, value)\n"
     ]
    },
    {
     "name": "stdout",
     "output_type": "stream",
     "text": [
      "subvillage\n",
      "population\n",
      "public_meeting\n",
      "scheme_name\n",
      "permit\n",
      "construction_year\n"
     ]
    }
   ],
   "source": [
    "df_test_submit = fill_missing_values_knn(df_binary_test, df_binary_str_test, df_missing_test, binary_headers_test)"
   ]
  },
  {
   "cell_type": "code",
   "execution_count": 567,
   "metadata": {
    "collapsed": false
   },
   "outputs": [
    {
     "ename": "ValueError",
     "evalue": "Number of features of the model must  match the input. Model n_features is 168 and  input n_features is 166 ",
     "output_type": "error",
     "traceback": [
      "\u001b[0;31m---------------------------------------------------------------------------\u001b[0m",
      "\u001b[0;31mValueError\u001b[0m                                Traceback (most recent call last)",
      "\u001b[0;32m<ipython-input-567-c78bf480a1fe>\u001b[0m in \u001b[0;36m<module>\u001b[0;34m()\u001b[0m\n\u001b[0;32m----> 1\u001b[0;31m \u001b[0mpred_test\u001b[0m \u001b[0;34m=\u001b[0m \u001b[0mclf\u001b[0m\u001b[0;34m.\u001b[0m\u001b[0mpredict\u001b[0m\u001b[0;34m(\u001b[0m\u001b[0mtest_data\u001b[0m\u001b[0;34m)\u001b[0m\u001b[0;34m\u001b[0m\u001b[0m\n\u001b[0m",
      "\u001b[0;32m/Users/George/miniconda3/envs/py3k/lib/python3.5/site-packages/sklearn/ensemble/forest.py\u001b[0m in \u001b[0;36mpredict\u001b[0;34m(self, X)\u001b[0m\n\u001b[1;32m    496\u001b[0m             \u001b[0mThe\u001b[0m \u001b[0mpredicted\u001b[0m \u001b[0mclasses\u001b[0m\u001b[0;34m.\u001b[0m\u001b[0;34m\u001b[0m\u001b[0m\n\u001b[1;32m    497\u001b[0m         \"\"\"\n\u001b[0;32m--> 498\u001b[0;31m         \u001b[0mproba\u001b[0m \u001b[0;34m=\u001b[0m \u001b[0mself\u001b[0m\u001b[0;34m.\u001b[0m\u001b[0mpredict_proba\u001b[0m\u001b[0;34m(\u001b[0m\u001b[0mX\u001b[0m\u001b[0;34m)\u001b[0m\u001b[0;34m\u001b[0m\u001b[0m\n\u001b[0m\u001b[1;32m    499\u001b[0m \u001b[0;34m\u001b[0m\u001b[0m\n\u001b[1;32m    500\u001b[0m         \u001b[0;32mif\u001b[0m \u001b[0mself\u001b[0m\u001b[0;34m.\u001b[0m\u001b[0mn_outputs_\u001b[0m \u001b[0;34m==\u001b[0m \u001b[0;36m1\u001b[0m\u001b[0;34m:\u001b[0m\u001b[0;34m\u001b[0m\u001b[0m\n",
      "\u001b[0;32m/Users/George/miniconda3/envs/py3k/lib/python3.5/site-packages/sklearn/ensemble/forest.py\u001b[0m in \u001b[0;36mpredict_proba\u001b[0;34m(self, X)\u001b[0m\n\u001b[1;32m    535\u001b[0m         \"\"\"\n\u001b[1;32m    536\u001b[0m         \u001b[0;31m# Check data\u001b[0m\u001b[0;34m\u001b[0m\u001b[0;34m\u001b[0m\u001b[0m\n\u001b[0;32m--> 537\u001b[0;31m         \u001b[0mX\u001b[0m \u001b[0;34m=\u001b[0m \u001b[0mself\u001b[0m\u001b[0;34m.\u001b[0m\u001b[0m_validate_X_predict\u001b[0m\u001b[0;34m(\u001b[0m\u001b[0mX\u001b[0m\u001b[0;34m)\u001b[0m\u001b[0;34m\u001b[0m\u001b[0m\n\u001b[0m\u001b[1;32m    538\u001b[0m \u001b[0;34m\u001b[0m\u001b[0m\n\u001b[1;32m    539\u001b[0m         \u001b[0;31m# Assign chunk of trees to jobs\u001b[0m\u001b[0;34m\u001b[0m\u001b[0;34m\u001b[0m\u001b[0m\n",
      "\u001b[0;32m/Users/George/miniconda3/envs/py3k/lib/python3.5/site-packages/sklearn/ensemble/forest.py\u001b[0m in \u001b[0;36m_validate_X_predict\u001b[0;34m(self, X)\u001b[0m\n\u001b[1;32m    317\u001b[0m                                  \"call `fit` before exploiting the model.\")\n\u001b[1;32m    318\u001b[0m \u001b[0;34m\u001b[0m\u001b[0m\n\u001b[0;32m--> 319\u001b[0;31m         \u001b[0;32mreturn\u001b[0m \u001b[0mself\u001b[0m\u001b[0;34m.\u001b[0m\u001b[0mestimators_\u001b[0m\u001b[0;34m[\u001b[0m\u001b[0;36m0\u001b[0m\u001b[0;34m]\u001b[0m\u001b[0;34m.\u001b[0m\u001b[0m_validate_X_predict\u001b[0m\u001b[0;34m(\u001b[0m\u001b[0mX\u001b[0m\u001b[0;34m,\u001b[0m \u001b[0mcheck_input\u001b[0m\u001b[0;34m=\u001b[0m\u001b[0;32mTrue\u001b[0m\u001b[0;34m)\u001b[0m\u001b[0;34m\u001b[0m\u001b[0m\n\u001b[0m\u001b[1;32m    320\u001b[0m \u001b[0;34m\u001b[0m\u001b[0m\n\u001b[1;32m    321\u001b[0m     \u001b[0;34m@\u001b[0m\u001b[0mproperty\u001b[0m\u001b[0;34m\u001b[0m\u001b[0m\n",
      "\u001b[0;32m/Users/George/miniconda3/envs/py3k/lib/python3.5/site-packages/sklearn/tree/tree.py\u001b[0m in \u001b[0;36m_validate_X_predict\u001b[0;34m(self, X, check_input)\u001b[0m\n\u001b[1;32m    374\u001b[0m                              \u001b[0;34m\" match the input. Model n_features is %s and \"\u001b[0m\u001b[0;34m\u001b[0m\u001b[0m\n\u001b[1;32m    375\u001b[0m                              \u001b[0;34m\" input n_features is %s \"\u001b[0m\u001b[0;34m\u001b[0m\u001b[0m\n\u001b[0;32m--> 376\u001b[0;31m                              % (self.n_features_, n_features))\n\u001b[0m\u001b[1;32m    377\u001b[0m \u001b[0;34m\u001b[0m\u001b[0m\n\u001b[1;32m    378\u001b[0m         \u001b[0;32mreturn\u001b[0m \u001b[0mX\u001b[0m\u001b[0;34m\u001b[0m\u001b[0m\n",
      "\u001b[0;31mValueError\u001b[0m: Number of features of the model must  match the input. Model n_features is 168 and  input n_features is 166 "
     ]
    }
   ],
   "source": [
    "pred_test = clf.predict(test_data)"
   ]
  },
  {
   "cell_type": "code",
   "execution_count": 457,
   "metadata": {
    "collapsed": false
   },
   "outputs": [],
   "source": [
    "submission = pd.read_csv('data/SubmissionFormat.csv')"
   ]
  },
  {
   "cell_type": "code",
   "execution_count": 397,
   "metadata": {
    "collapsed": false
   },
   "outputs": [
    {
     "ename": "ValueError",
     "evalue": "The truth value of an array with more than one element is ambiguous. Use a.any() or a.all()",
     "output_type": "error",
     "traceback": [
      "\u001b[0;31m---------------------------------------------------------------------------\u001b[0m",
      "\u001b[0;31mValueError\u001b[0m                                Traceback (most recent call last)",
      "\u001b[0;32m<ipython-input-397-ea63c1fc02eb>\u001b[0m in \u001b[0;36m<module>\u001b[0;34m()\u001b[0m\n\u001b[1;32m      1\u001b[0m \u001b[0mle_lab\u001b[0m \u001b[0;34m=\u001b[0m \u001b[0mpreprocessing\u001b[0m\u001b[0;34m.\u001b[0m\u001b[0mLabelEncoder\u001b[0m\u001b[0;34m(\u001b[0m\u001b[0;34m)\u001b[0m\u001b[0;34m\u001b[0m\u001b[0m\n\u001b[1;32m      2\u001b[0m \u001b[0mle_lab\u001b[0m\u001b[0;34m.\u001b[0m\u001b[0mfit\u001b[0m\u001b[0;34m(\u001b[0m\u001b[0mpred_test\u001b[0m\u001b[0;34m)\u001b[0m\u001b[0;34m\u001b[0m\u001b[0m\n\u001b[0;32m----> 3\u001b[0;31m \u001b[0mpred_labels\u001b[0m \u001b[0;34m=\u001b[0m \u001b[0mle_lab\u001b[0m\u001b[0;34m.\u001b[0m\u001b[0minverse_transform\u001b[0m\u001b[0;34m(\u001b[0m\u001b[0mpd\u001b[0m\u001b[0;34m.\u001b[0m\u001b[0mSeries\u001b[0m\u001b[0;34m(\u001b[0m\u001b[0mpred_test\u001b[0m\u001b[0;34m)\u001b[0m\u001b[0;34m)\u001b[0m\u001b[0;34m\u001b[0m\u001b[0m\n\u001b[0m",
      "\u001b[0;32m/Users/George/miniconda3/envs/py3k/lib/python3.5/site-packages/sklearn/preprocessing/label.py\u001b[0m in \u001b[0;36minverse_transform\u001b[0;34m(self, y)\u001b[0m\n\u001b[1;32m    164\u001b[0m \u001b[0;34m\u001b[0m\u001b[0m\n\u001b[1;32m    165\u001b[0m         \u001b[0mdiff\u001b[0m \u001b[0;34m=\u001b[0m \u001b[0mnp\u001b[0m\u001b[0;34m.\u001b[0m\u001b[0msetdiff1d\u001b[0m\u001b[0;34m(\u001b[0m\u001b[0my\u001b[0m\u001b[0;34m,\u001b[0m \u001b[0mnp\u001b[0m\u001b[0;34m.\u001b[0m\u001b[0marange\u001b[0m\u001b[0;34m(\u001b[0m\u001b[0mlen\u001b[0m\u001b[0;34m(\u001b[0m\u001b[0mself\u001b[0m\u001b[0;34m.\u001b[0m\u001b[0mclasses_\u001b[0m\u001b[0;34m)\u001b[0m\u001b[0;34m)\u001b[0m\u001b[0;34m)\u001b[0m\u001b[0;34m\u001b[0m\u001b[0m\n\u001b[0;32m--> 166\u001b[0;31m         \u001b[0;32mif\u001b[0m \u001b[0mdiff\u001b[0m\u001b[0;34m:\u001b[0m\u001b[0;34m\u001b[0m\u001b[0m\n\u001b[0m\u001b[1;32m    167\u001b[0m             \u001b[0;32mraise\u001b[0m \u001b[0mValueError\u001b[0m\u001b[0;34m(\u001b[0m\u001b[0;34m\"y contains new labels: %s\"\u001b[0m \u001b[0;34m%\u001b[0m \u001b[0mstr\u001b[0m\u001b[0;34m(\u001b[0m\u001b[0mdiff\u001b[0m\u001b[0;34m)\u001b[0m\u001b[0;34m)\u001b[0m\u001b[0;34m\u001b[0m\u001b[0m\n\u001b[1;32m    168\u001b[0m         \u001b[0my\u001b[0m \u001b[0;34m=\u001b[0m \u001b[0mnp\u001b[0m\u001b[0;34m.\u001b[0m\u001b[0masarray\u001b[0m\u001b[0;34m(\u001b[0m\u001b[0my\u001b[0m\u001b[0;34m)\u001b[0m\u001b[0;34m\u001b[0m\u001b[0m\n",
      "\u001b[0;31mValueError\u001b[0m: The truth value of an array with more than one element is ambiguous. Use a.any() or a.all()"
     ]
    }
   ],
   "source": [
    "le_lab = preprocessing.LabelEncoder()\n",
    "le_lab.fit(pred_test)\n",
    "pred_labels = le_lab.inverse_transform(pred_test)"
   ]
  },
  {
   "cell_type": "code",
   "execution_count": 458,
   "metadata": {
    "collapsed": false
   },
   "outputs": [],
   "source": [
    "submission.status_group = pred_test"
   ]
  },
  {
   "cell_type": "code",
   "execution_count": 459,
   "metadata": {
    "collapsed": false
   },
   "outputs": [],
   "source": [
    "submission.to_csv('submissions/submission6.csv', index=False)"
   ]
  },
  {
   "cell_type": "code",
   "execution_count": null,
   "metadata": {
    "collapsed": true
   },
   "outputs": [],
   "source": []
  }
 ],
 "metadata": {
  "anaconda-cloud": {},
  "kernelspec": {
   "display_name": "Python [py3k]",
   "language": "python",
   "name": "Python [py3k]"
  },
  "language_info": {
   "codemirror_mode": {
    "name": "ipython",
    "version": 3
   },
   "file_extension": ".py",
   "mimetype": "text/x-python",
   "name": "python",
   "nbconvert_exporter": "python",
   "pygments_lexer": "ipython3",
   "version": "3.5.2"
  }
 },
 "nbformat": 4,
 "nbformat_minor": 0
}
